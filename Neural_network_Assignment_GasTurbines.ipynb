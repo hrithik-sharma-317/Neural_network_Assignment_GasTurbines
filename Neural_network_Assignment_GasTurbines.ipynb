{
  "cells": [
    {
      "metadata": {},
      "cell_type": "markdown",
      "source": "# Neural Networks"
    },
    {
      "metadata": {
        "id": "WPxI_vZmKLyy",
        "trusted": false
      },
      "cell_type": "code",
      "source": "import pandas as pd\nimport numpy as np\nimport matplotlib.pyplot as plt\nimport keras\nimport tensorflow\nimport seaborn as sns",
      "execution_count": 32,
      "outputs": []
    },
    {
      "metadata": {
        "colab": {
          "base_uri": "https://localhost:8080/",
          "height": 423
        },
        "id": "HTu-hFKqLLiq",
        "outputId": "92d1e46e-3b4f-4a8e-a008-11cfbc78b85c",
        "trusted": false
      },
      "cell_type": "code",
      "source": "df = pd.read_csv(\"gas_turbines.csv\")\ndf",
      "execution_count": 2,
      "outputs": [
        {
          "data": {
            "text/html": "\n  <div id=\"df-21815992-abdd-4c25-8106-3f5d647a37b8\">\n    <div class=\"colab-df-container\">\n      <div>\n<style scoped>\n    .dataframe tbody tr th:only-of-type {\n        vertical-align: middle;\n    }\n\n    .dataframe tbody tr th {\n        vertical-align: top;\n    }\n\n    .dataframe thead th {\n        text-align: right;\n    }\n</style>\n<table border=\"1\" class=\"dataframe\">\n  <thead>\n    <tr style=\"text-align: right;\">\n      <th></th>\n      <th>AT</th>\n      <th>AP</th>\n      <th>AH</th>\n      <th>AFDP</th>\n      <th>GTEP</th>\n      <th>TIT</th>\n      <th>TAT</th>\n      <th>TEY</th>\n      <th>CDP</th>\n      <th>CO</th>\n      <th>NOX</th>\n    </tr>\n  </thead>\n  <tbody>\n    <tr>\n      <th>0</th>\n      <td>6.8594</td>\n      <td>1007.9</td>\n      <td>96.799</td>\n      <td>3.5000</td>\n      <td>19.663</td>\n      <td>1059.2</td>\n      <td>550.00</td>\n      <td>114.70</td>\n      <td>10.605</td>\n      <td>3.1547</td>\n      <td>82.722</td>\n    </tr>\n    <tr>\n      <th>1</th>\n      <td>6.7850</td>\n      <td>1008.4</td>\n      <td>97.118</td>\n      <td>3.4998</td>\n      <td>19.728</td>\n      <td>1059.3</td>\n      <td>550.00</td>\n      <td>114.72</td>\n      <td>10.598</td>\n      <td>3.2363</td>\n      <td>82.776</td>\n    </tr>\n    <tr>\n      <th>2</th>\n      <td>6.8977</td>\n      <td>1008.8</td>\n      <td>95.939</td>\n      <td>3.4824</td>\n      <td>19.779</td>\n      <td>1059.4</td>\n      <td>549.87</td>\n      <td>114.71</td>\n      <td>10.601</td>\n      <td>3.2012</td>\n      <td>82.468</td>\n    </tr>\n    <tr>\n      <th>3</th>\n      <td>7.0569</td>\n      <td>1009.2</td>\n      <td>95.249</td>\n      <td>3.4805</td>\n      <td>19.792</td>\n      <td>1059.6</td>\n      <td>549.99</td>\n      <td>114.72</td>\n      <td>10.606</td>\n      <td>3.1923</td>\n      <td>82.670</td>\n    </tr>\n    <tr>\n      <th>4</th>\n      <td>7.3978</td>\n      <td>1009.7</td>\n      <td>95.150</td>\n      <td>3.4976</td>\n      <td>19.765</td>\n      <td>1059.7</td>\n      <td>549.98</td>\n      <td>114.72</td>\n      <td>10.612</td>\n      <td>3.2484</td>\n      <td>82.311</td>\n    </tr>\n    <tr>\n      <th>...</th>\n      <td>...</td>\n      <td>...</td>\n      <td>...</td>\n      <td>...</td>\n      <td>...</td>\n      <td>...</td>\n      <td>...</td>\n      <td>...</td>\n      <td>...</td>\n      <td>...</td>\n      <td>...</td>\n    </tr>\n    <tr>\n      <th>15034</th>\n      <td>9.0301</td>\n      <td>1005.6</td>\n      <td>98.460</td>\n      <td>3.5421</td>\n      <td>19.164</td>\n      <td>1049.7</td>\n      <td>546.21</td>\n      <td>111.61</td>\n      <td>10.400</td>\n      <td>4.5186</td>\n      <td>79.559</td>\n    </tr>\n    <tr>\n      <th>15035</th>\n      <td>7.8879</td>\n      <td>1005.9</td>\n      <td>99.093</td>\n      <td>3.5059</td>\n      <td>19.414</td>\n      <td>1046.3</td>\n      <td>543.22</td>\n      <td>111.78</td>\n      <td>10.433</td>\n      <td>4.8470</td>\n      <td>79.917</td>\n    </tr>\n    <tr>\n      <th>15036</th>\n      <td>7.2647</td>\n      <td>1006.3</td>\n      <td>99.496</td>\n      <td>3.4770</td>\n      <td>19.530</td>\n      <td>1037.7</td>\n      <td>537.32</td>\n      <td>110.19</td>\n      <td>10.483</td>\n      <td>7.9632</td>\n      <td>90.912</td>\n    </tr>\n    <tr>\n      <th>15037</th>\n      <td>7.0060</td>\n      <td>1006.8</td>\n      <td>99.008</td>\n      <td>3.4486</td>\n      <td>19.377</td>\n      <td>1043.2</td>\n      <td>541.24</td>\n      <td>110.74</td>\n      <td>10.533</td>\n      <td>6.2494</td>\n      <td>93.227</td>\n    </tr>\n    <tr>\n      <th>15038</th>\n      <td>6.9279</td>\n      <td>1007.2</td>\n      <td>97.533</td>\n      <td>3.4275</td>\n      <td>19.306</td>\n      <td>1049.9</td>\n      <td>545.85</td>\n      <td>111.58</td>\n      <td>10.583</td>\n      <td>4.9816</td>\n      <td>92.498</td>\n    </tr>\n  </tbody>\n</table>\n<p>15039 rows × 11 columns</p>\n</div>\n      <button class=\"colab-df-convert\" onclick=\"convertToInteractive('df-21815992-abdd-4c25-8106-3f5d647a37b8')\"\n              title=\"Convert this dataframe to an interactive table.\"\n              style=\"display:none;\">\n        \n  <svg xmlns=\"http://www.w3.org/2000/svg\" height=\"24px\"viewBox=\"0 0 24 24\"\n       width=\"24px\">\n    <path d=\"M0 0h24v24H0V0z\" fill=\"none\"/>\n    <path d=\"M18.56 5.44l.94 2.06.94-2.06 2.06-.94-2.06-.94-.94-2.06-.94 2.06-2.06.94zm-11 1L8.5 8.5l.94-2.06 2.06-.94-2.06-.94L8.5 2.5l-.94 2.06-2.06.94zm10 10l.94 2.06.94-2.06 2.06-.94-2.06-.94-.94-2.06-.94 2.06-2.06.94z\"/><path d=\"M17.41 7.96l-1.37-1.37c-.4-.4-.92-.59-1.43-.59-.52 0-1.04.2-1.43.59L10.3 9.45l-7.72 7.72c-.78.78-.78 2.05 0 2.83L4 21.41c.39.39.9.59 1.41.59.51 0 1.02-.2 1.41-.59l7.78-7.78 2.81-2.81c.8-.78.8-2.07 0-2.86zM5.41 20L4 18.59l7.72-7.72 1.47 1.35L5.41 20z\"/>\n  </svg>\n      </button>\n      \n  <style>\n    .colab-df-container {\n      display:flex;\n      flex-wrap:wrap;\n      gap: 12px;\n    }\n\n    .colab-df-convert {\n      background-color: #E8F0FE;\n      border: none;\n      border-radius: 50%;\n      cursor: pointer;\n      display: none;\n      fill: #1967D2;\n      height: 32px;\n      padding: 0 0 0 0;\n      width: 32px;\n    }\n\n    .colab-df-convert:hover {\n      background-color: #E2EBFA;\n      box-shadow: 0px 1px 2px rgba(60, 64, 67, 0.3), 0px 1px 3px 1px rgba(60, 64, 67, 0.15);\n      fill: #174EA6;\n    }\n\n    [theme=dark] .colab-df-convert {\n      background-color: #3B4455;\n      fill: #D2E3FC;\n    }\n\n    [theme=dark] .colab-df-convert:hover {\n      background-color: #434B5C;\n      box-shadow: 0px 1px 3px 1px rgba(0, 0, 0, 0.15);\n      filter: drop-shadow(0px 1px 2px rgba(0, 0, 0, 0.3));\n      fill: #FFFFFF;\n    }\n  </style>\n\n      <script>\n        const buttonEl =\n          document.querySelector('#df-21815992-abdd-4c25-8106-3f5d647a37b8 button.colab-df-convert');\n        buttonEl.style.display =\n          google.colab.kernel.accessAllowed ? 'block' : 'none';\n\n        async function convertToInteractive(key) {\n          const element = document.querySelector('#df-21815992-abdd-4c25-8106-3f5d647a37b8');\n          const dataTable =\n            await google.colab.kernel.invokeFunction('convertToInteractive',\n                                                     [key], {});\n          if (!dataTable) return;\n\n          const docLinkHtml = 'Like what you see? Visit the ' +\n            '<a target=\"_blank\" href=https://colab.research.google.com/notebooks/data_table.ipynb>data table notebook</a>'\n            + ' to learn more about interactive tables.';\n          element.innerHTML = '';\n          dataTable['output_type'] = 'display_data';\n          await google.colab.output.renderOutput(dataTable, element);\n          const docLink = document.createElement('div');\n          docLink.innerHTML = docLinkHtml;\n          element.appendChild(docLink);\n        }\n      </script>\n    </div>\n  </div>\n  ",
            "text/plain": "           AT      AP      AH    AFDP    GTEP     TIT     TAT     TEY     CDP  \\\n0      6.8594  1007.9  96.799  3.5000  19.663  1059.2  550.00  114.70  10.605   \n1      6.7850  1008.4  97.118  3.4998  19.728  1059.3  550.00  114.72  10.598   \n2      6.8977  1008.8  95.939  3.4824  19.779  1059.4  549.87  114.71  10.601   \n3      7.0569  1009.2  95.249  3.4805  19.792  1059.6  549.99  114.72  10.606   \n4      7.3978  1009.7  95.150  3.4976  19.765  1059.7  549.98  114.72  10.612   \n...       ...     ...     ...     ...     ...     ...     ...     ...     ...   \n15034  9.0301  1005.6  98.460  3.5421  19.164  1049.7  546.21  111.61  10.400   \n15035  7.8879  1005.9  99.093  3.5059  19.414  1046.3  543.22  111.78  10.433   \n15036  7.2647  1006.3  99.496  3.4770  19.530  1037.7  537.32  110.19  10.483   \n15037  7.0060  1006.8  99.008  3.4486  19.377  1043.2  541.24  110.74  10.533   \n15038  6.9279  1007.2  97.533  3.4275  19.306  1049.9  545.85  111.58  10.583   \n\n           CO     NOX  \n0      3.1547  82.722  \n1      3.2363  82.776  \n2      3.2012  82.468  \n3      3.1923  82.670  \n4      3.2484  82.311  \n...       ...     ...  \n15034  4.5186  79.559  \n15035  4.8470  79.917  \n15036  7.9632  90.912  \n15037  6.2494  93.227  \n15038  4.9816  92.498  \n\n[15039 rows x 11 columns]"
          },
          "execution_count": 2,
          "metadata": {},
          "output_type": "execute_result"
        }
      ]
    },
    {
      "metadata": {
        "colab": {
          "base_uri": "https://localhost:8080/"
        },
        "id": "b7XJwiKWLeeD",
        "outputId": "1bb1c27f-c7cd-46e7-b03b-1d475d9b983a",
        "trusted": false
      },
      "cell_type": "code",
      "source": "df.isnull().sum()",
      "execution_count": 3,
      "outputs": [
        {
          "data": {
            "text/plain": "AT      0\nAP      0\nAH      0\nAFDP    0\nGTEP    0\nTIT     0\nTAT     0\nTEY     0\nCDP     0\nCO      0\nNOX     0\ndtype: int64"
          },
          "execution_count": 3,
          "metadata": {},
          "output_type": "execute_result"
        }
      ]
    },
    {
      "metadata": {
        "colab": {
          "base_uri": "https://localhost:8080/"
        },
        "id": "uqUPu1TvLkCh",
        "outputId": "6b9edb36-b361-466b-d77f-69382da3b3df",
        "trusted": false
      },
      "cell_type": "code",
      "source": "df.shape",
      "execution_count": 4,
      "outputs": [
        {
          "data": {
            "text/plain": "(15039, 11)"
          },
          "execution_count": 4,
          "metadata": {},
          "output_type": "execute_result"
        }
      ]
    },
    {
      "metadata": {
        "colab": {
          "base_uri": "https://localhost:8080/"
        },
        "id": "I1g6ySJqLlUx",
        "outputId": "e3625fba-dfca-4675-ab00-e0634c112379",
        "trusted": false
      },
      "cell_type": "code",
      "source": "df.info()",
      "execution_count": 5,
      "outputs": [
        {
          "name": "stdout",
          "output_type": "stream",
          "text": "<class 'pandas.core.frame.DataFrame'>\nRangeIndex: 15039 entries, 0 to 15038\nData columns (total 11 columns):\n #   Column  Non-Null Count  Dtype  \n---  ------  --------------  -----  \n 0   AT      15039 non-null  float64\n 1   AP      15039 non-null  float64\n 2   AH      15039 non-null  float64\n 3   AFDP    15039 non-null  float64\n 4   GTEP    15039 non-null  float64\n 5   TIT     15039 non-null  float64\n 6   TAT     15039 non-null  float64\n 7   TEY     15039 non-null  float64\n 8   CDP     15039 non-null  float64\n 9   CO      15039 non-null  float64\n 10  NOX     15039 non-null  float64\ndtypes: float64(11)\nmemory usage: 1.3 MB\n"
        }
      ]
    },
    {
      "metadata": {
        "colab": {
          "base_uri": "https://localhost:8080/",
          "height": 300
        },
        "id": "vyHVS1kYLqc3",
        "outputId": "13fe5925-905d-4c31-ea86-647158201ab5",
        "trusted": false
      },
      "cell_type": "code",
      "source": "df.describe()",
      "execution_count": 6,
      "outputs": [
        {
          "data": {
            "text/html": "\n  <div id=\"df-0ba70013-99ed-44b2-ac1e-358c8f0e9980\">\n    <div class=\"colab-df-container\">\n      <div>\n<style scoped>\n    .dataframe tbody tr th:only-of-type {\n        vertical-align: middle;\n    }\n\n    .dataframe tbody tr th {\n        vertical-align: top;\n    }\n\n    .dataframe thead th {\n        text-align: right;\n    }\n</style>\n<table border=\"1\" class=\"dataframe\">\n  <thead>\n    <tr style=\"text-align: right;\">\n      <th></th>\n      <th>AT</th>\n      <th>AP</th>\n      <th>AH</th>\n      <th>AFDP</th>\n      <th>GTEP</th>\n      <th>TIT</th>\n      <th>TAT</th>\n      <th>TEY</th>\n      <th>CDP</th>\n      <th>CO</th>\n      <th>NOX</th>\n    </tr>\n  </thead>\n  <tbody>\n    <tr>\n      <th>count</th>\n      <td>15039.000000</td>\n      <td>15039.00000</td>\n      <td>15039.000000</td>\n      <td>15039.000000</td>\n      <td>15039.000000</td>\n      <td>15039.000000</td>\n      <td>15039.000000</td>\n      <td>15039.000000</td>\n      <td>15039.000000</td>\n      <td>15039.000000</td>\n      <td>15039.000000</td>\n    </tr>\n    <tr>\n      <th>mean</th>\n      <td>17.764381</td>\n      <td>1013.19924</td>\n      <td>79.124174</td>\n      <td>4.200294</td>\n      <td>25.419061</td>\n      <td>1083.798770</td>\n      <td>545.396183</td>\n      <td>134.188464</td>\n      <td>12.102353</td>\n      <td>1.972499</td>\n      <td>68.190934</td>\n    </tr>\n    <tr>\n      <th>std</th>\n      <td>7.574323</td>\n      <td>6.41076</td>\n      <td>13.793439</td>\n      <td>0.760197</td>\n      <td>4.173916</td>\n      <td>16.527806</td>\n      <td>7.866803</td>\n      <td>15.829717</td>\n      <td>1.103196</td>\n      <td>2.222206</td>\n      <td>10.470586</td>\n    </tr>\n    <tr>\n      <th>min</th>\n      <td>0.522300</td>\n      <td>985.85000</td>\n      <td>30.344000</td>\n      <td>2.087400</td>\n      <td>17.878000</td>\n      <td>1000.800000</td>\n      <td>512.450000</td>\n      <td>100.170000</td>\n      <td>9.904400</td>\n      <td>0.000388</td>\n      <td>27.765000</td>\n    </tr>\n    <tr>\n      <th>25%</th>\n      <td>11.408000</td>\n      <td>1008.90000</td>\n      <td>69.750000</td>\n      <td>3.723900</td>\n      <td>23.294000</td>\n      <td>1079.600000</td>\n      <td>542.170000</td>\n      <td>127.985000</td>\n      <td>11.622000</td>\n      <td>0.858055</td>\n      <td>61.303500</td>\n    </tr>\n    <tr>\n      <th>50%</th>\n      <td>18.186000</td>\n      <td>1012.80000</td>\n      <td>82.266000</td>\n      <td>4.186200</td>\n      <td>25.082000</td>\n      <td>1088.700000</td>\n      <td>549.890000</td>\n      <td>133.780000</td>\n      <td>12.025000</td>\n      <td>1.390200</td>\n      <td>66.601000</td>\n    </tr>\n    <tr>\n      <th>75%</th>\n      <td>23.862500</td>\n      <td>1016.90000</td>\n      <td>90.043500</td>\n      <td>4.550900</td>\n      <td>27.184000</td>\n      <td>1096.000000</td>\n      <td>550.060000</td>\n      <td>140.895000</td>\n      <td>12.578000</td>\n      <td>2.160400</td>\n      <td>73.935500</td>\n    </tr>\n    <tr>\n      <th>max</th>\n      <td>34.929000</td>\n      <td>1034.20000</td>\n      <td>100.200000</td>\n      <td>7.610600</td>\n      <td>37.402000</td>\n      <td>1100.800000</td>\n      <td>550.610000</td>\n      <td>174.610000</td>\n      <td>15.081000</td>\n      <td>44.103000</td>\n      <td>119.890000</td>\n    </tr>\n  </tbody>\n</table>\n</div>\n      <button class=\"colab-df-convert\" onclick=\"convertToInteractive('df-0ba70013-99ed-44b2-ac1e-358c8f0e9980')\"\n              title=\"Convert this dataframe to an interactive table.\"\n              style=\"display:none;\">\n        \n  <svg xmlns=\"http://www.w3.org/2000/svg\" height=\"24px\"viewBox=\"0 0 24 24\"\n       width=\"24px\">\n    <path d=\"M0 0h24v24H0V0z\" fill=\"none\"/>\n    <path d=\"M18.56 5.44l.94 2.06.94-2.06 2.06-.94-2.06-.94-.94-2.06-.94 2.06-2.06.94zm-11 1L8.5 8.5l.94-2.06 2.06-.94-2.06-.94L8.5 2.5l-.94 2.06-2.06.94zm10 10l.94 2.06.94-2.06 2.06-.94-2.06-.94-.94-2.06-.94 2.06-2.06.94z\"/><path d=\"M17.41 7.96l-1.37-1.37c-.4-.4-.92-.59-1.43-.59-.52 0-1.04.2-1.43.59L10.3 9.45l-7.72 7.72c-.78.78-.78 2.05 0 2.83L4 21.41c.39.39.9.59 1.41.59.51 0 1.02-.2 1.41-.59l7.78-7.78 2.81-2.81c.8-.78.8-2.07 0-2.86zM5.41 20L4 18.59l7.72-7.72 1.47 1.35L5.41 20z\"/>\n  </svg>\n      </button>\n      \n  <style>\n    .colab-df-container {\n      display:flex;\n      flex-wrap:wrap;\n      gap: 12px;\n    }\n\n    .colab-df-convert {\n      background-color: #E8F0FE;\n      border: none;\n      border-radius: 50%;\n      cursor: pointer;\n      display: none;\n      fill: #1967D2;\n      height: 32px;\n      padding: 0 0 0 0;\n      width: 32px;\n    }\n\n    .colab-df-convert:hover {\n      background-color: #E2EBFA;\n      box-shadow: 0px 1px 2px rgba(60, 64, 67, 0.3), 0px 1px 3px 1px rgba(60, 64, 67, 0.15);\n      fill: #174EA6;\n    }\n\n    [theme=dark] .colab-df-convert {\n      background-color: #3B4455;\n      fill: #D2E3FC;\n    }\n\n    [theme=dark] .colab-df-convert:hover {\n      background-color: #434B5C;\n      box-shadow: 0px 1px 3px 1px rgba(0, 0, 0, 0.15);\n      filter: drop-shadow(0px 1px 2px rgba(0, 0, 0, 0.3));\n      fill: #FFFFFF;\n    }\n  </style>\n\n      <script>\n        const buttonEl =\n          document.querySelector('#df-0ba70013-99ed-44b2-ac1e-358c8f0e9980 button.colab-df-convert');\n        buttonEl.style.display =\n          google.colab.kernel.accessAllowed ? 'block' : 'none';\n\n        async function convertToInteractive(key) {\n          const element = document.querySelector('#df-0ba70013-99ed-44b2-ac1e-358c8f0e9980');\n          const dataTable =\n            await google.colab.kernel.invokeFunction('convertToInteractive',\n                                                     [key], {});\n          if (!dataTable) return;\n\n          const docLinkHtml = 'Like what you see? Visit the ' +\n            '<a target=\"_blank\" href=https://colab.research.google.com/notebooks/data_table.ipynb>data table notebook</a>'\n            + ' to learn more about interactive tables.';\n          element.innerHTML = '';\n          dataTable['output_type'] = 'display_data';\n          await google.colab.output.renderOutput(dataTable, element);\n          const docLink = document.createElement('div');\n          docLink.innerHTML = docLinkHtml;\n          element.appendChild(docLink);\n        }\n      </script>\n    </div>\n  </div>\n  ",
            "text/plain": "                 AT           AP            AH          AFDP          GTEP  \\\ncount  15039.000000  15039.00000  15039.000000  15039.000000  15039.000000   \nmean      17.764381   1013.19924     79.124174      4.200294     25.419061   \nstd        7.574323      6.41076     13.793439      0.760197      4.173916   \nmin        0.522300    985.85000     30.344000      2.087400     17.878000   \n25%       11.408000   1008.90000     69.750000      3.723900     23.294000   \n50%       18.186000   1012.80000     82.266000      4.186200     25.082000   \n75%       23.862500   1016.90000     90.043500      4.550900     27.184000   \nmax       34.929000   1034.20000    100.200000      7.610600     37.402000   \n\n                TIT           TAT           TEY           CDP            CO  \\\ncount  15039.000000  15039.000000  15039.000000  15039.000000  15039.000000   \nmean    1083.798770    545.396183    134.188464     12.102353      1.972499   \nstd       16.527806      7.866803     15.829717      1.103196      2.222206   \nmin     1000.800000    512.450000    100.170000      9.904400      0.000388   \n25%     1079.600000    542.170000    127.985000     11.622000      0.858055   \n50%     1088.700000    549.890000    133.780000     12.025000      1.390200   \n75%     1096.000000    550.060000    140.895000     12.578000      2.160400   \nmax     1100.800000    550.610000    174.610000     15.081000     44.103000   \n\n                NOX  \ncount  15039.000000  \nmean      68.190934  \nstd       10.470586  \nmin       27.765000  \n25%       61.303500  \n50%       66.601000  \n75%       73.935500  \nmax      119.890000  "
          },
          "execution_count": 6,
          "metadata": {},
          "output_type": "execute_result"
        }
      ]
    },
    {
      "metadata": {
        "colab": {
          "base_uri": "https://localhost:8080/",
          "height": 283
        },
        "id": "tDqZswnUL35m",
        "outputId": "d14e1abb-8d52-4139-8bf2-6e80687e1cdc",
        "trusted": false
      },
      "cell_type": "code",
      "source": "plt.scatter(x=\"CDP\",y=\"TEY\",data=df)",
      "execution_count": 7,
      "outputs": [
        {
          "data": {
            "text/plain": "<matplotlib.collections.PathCollection at 0x7fa82e4da310>"
          },
          "execution_count": 7,
          "metadata": {},
          "output_type": "execute_result"
        },
        {
          "data": {
            "image/png": "[encoded data removed]",
            "text/plain": "<Figure size 432x288 with 1 Axes>"
          },
          "metadata": {
            "needs_background": "light"
          },
          "output_type": "display_data"
        }
      ]
    },
    {
      "metadata": {
        "colab": {
          "base_uri": "https://localhost:8080/",
          "height": 283
        },
        "id": "5PjHp45aUecT",
        "outputId": "f51b6579-f94e-47ce-b1e4-c867cc39e137",
        "trusted": false
      },
      "cell_type": "code",
      "source": "sns.barplot(data=df)",
      "execution_count": 8,
      "outputs": [
        {
          "data": {
            "text/plain": "<matplotlib.axes._subplots.AxesSubplot at 0x7fa7ab7b9150>"
          },
          "execution_count": 8,
          "metadata": {},
          "output_type": "execute_result"
        },
        {
          "data": {
            "image/png": "[encoded data removed]",
            "text/plain": "<Figure size 432x288 with 1 Axes>"
          },
          "metadata": {
            "needs_background": "light"
          },
          "output_type": "display_data"
        }
      ]
    },
    {
      "metadata": {
        "id": "rqh236nUUm9V",
        "trusted": false
      },
      "cell_type": "code",
      "source": "from sklearn.preprocessing import StandardScaler",
      "execution_count": 9,
      "outputs": []
    },
    {
      "metadata": {
        "id": "5-r9udAFUqza",
        "trusted": false
      },
      "cell_type": "code",
      "source": "scaler = StandardScaler()\nstandardized_data=scaler.fit_transform(df)\ndf1=pd.DataFrame(standardized_data, columns=df.columns)",
      "execution_count": 10,
      "outputs": []
    },
    {
      "metadata": {
        "colab": {
          "base_uri": "https://localhost:8080/",
          "height": 423
        },
        "id": "hNjo8iF1UzRo",
        "outputId": "9adf2481-16eb-47b3-80fe-35cd73cfb004",
        "trusted": false
      },
      "cell_type": "code",
      "source": "df1",
      "execution_count": 11,
      "outputs": [
        {
          "data": {
            "text/html": "\n  <div id=\"df-c6400101-b250-474a-adf5-72338478cc95\">\n    <div class=\"colab-df-container\">\n      <div>\n<style scoped>\n    .dataframe tbody tr th:only-of-type {\n        vertical-align: middle;\n    }\n\n    .dataframe tbody tr th {\n        vertical-align: top;\n    }\n\n    .dataframe thead th {\n        text-align: right;\n    }\n</style>\n<table border=\"1\" class=\"dataframe\">\n  <thead>\n    <tr style=\"text-align: right;\">\n      <th></th>\n      <th>AT</th>\n      <th>AP</th>\n      <th>AH</th>\n      <th>AFDP</th>\n      <th>GTEP</th>\n      <th>TIT</th>\n      <th>TAT</th>\n      <th>TEY</th>\n      <th>CDP</th>\n      <th>CO</th>\n      <th>NOX</th>\n    </tr>\n  </thead>\n  <tbody>\n    <tr>\n      <th>0</th>\n      <td>-1.439778</td>\n      <td>-0.826644</td>\n      <td>1.281436</td>\n      <td>-0.921232</td>\n      <td>-1.379101</td>\n      <td>-1.488376</td>\n      <td>0.585240</td>\n      <td>-1.231172</td>\n      <td>-1.357331</td>\n      <td>0.532012</td>\n      <td>1.387845</td>\n    </tr>\n    <tr>\n      <th>1</th>\n      <td>-1.449601</td>\n      <td>-0.748647</td>\n      <td>1.304564</td>\n      <td>-0.921495</td>\n      <td>-1.363528</td>\n      <td>-1.482325</td>\n      <td>0.585240</td>\n      <td>-1.229909</td>\n      <td>-1.363676</td>\n      <td>0.568733</td>\n      <td>1.393002</td>\n    </tr>\n    <tr>\n      <th>2</th>\n      <td>-1.434721</td>\n      <td>-0.686250</td>\n      <td>1.219086</td>\n      <td>-0.944385</td>\n      <td>-1.351309</td>\n      <td>-1.476275</td>\n      <td>0.568715</td>\n      <td>-1.230541</td>\n      <td>-1.360957</td>\n      <td>0.552938</td>\n      <td>1.363586</td>\n    </tr>\n    <tr>\n      <th>3</th>\n      <td>-1.413702</td>\n      <td>-0.623853</td>\n      <td>1.169060</td>\n      <td>-0.946884</td>\n      <td>-1.348194</td>\n      <td>-1.464173</td>\n      <td>0.583969</td>\n      <td>-1.229909</td>\n      <td>-1.356424</td>\n      <td>0.548933</td>\n      <td>1.382878</td>\n    </tr>\n    <tr>\n      <th>4</th>\n      <td>-1.368693</td>\n      <td>-0.545857</td>\n      <td>1.161883</td>\n      <td>-0.924389</td>\n      <td>-1.354663</td>\n      <td>-1.458123</td>\n      <td>0.582698</td>\n      <td>-1.229909</td>\n      <td>-1.350985</td>\n      <td>0.574179</td>\n      <td>1.348591</td>\n    </tr>\n    <tr>\n      <th>...</th>\n      <td>...</td>\n      <td>...</td>\n      <td>...</td>\n      <td>...</td>\n      <td>...</td>\n      <td>...</td>\n      <td>...</td>\n      <td>...</td>\n      <td>...</td>\n      <td>...</td>\n      <td>...</td>\n    </tr>\n    <tr>\n      <th>15034</th>\n      <td>-1.153182</td>\n      <td>-1.185428</td>\n      <td>1.401860</td>\n      <td>-0.865850</td>\n      <td>-1.498657</td>\n      <td>-2.063184</td>\n      <td>0.103453</td>\n      <td>-1.426381</td>\n      <td>-1.543161</td>\n      <td>1.145792</td>\n      <td>1.085751</td>\n    </tr>\n    <tr>\n      <th>15035</th>\n      <td>-1.303986</td>\n      <td>-1.138630</td>\n      <td>1.447753</td>\n      <td>-0.913470</td>\n      <td>-1.438759</td>\n      <td>-2.268905</td>\n      <td>-0.276638</td>\n      <td>-1.415642</td>\n      <td>-1.513247</td>\n      <td>1.293578</td>\n      <td>1.119943</td>\n    </tr>\n    <tr>\n      <th>15036</th>\n      <td>-1.386267</td>\n      <td>-1.076233</td>\n      <td>1.476971</td>\n      <td>-0.951488</td>\n      <td>-1.410967</td>\n      <td>-2.789257</td>\n      <td>-1.026650</td>\n      <td>-1.516089</td>\n      <td>-1.467922</td>\n      <td>2.695925</td>\n      <td>2.170062</td>\n    </tr>\n    <tr>\n      <th>15037</th>\n      <td>-1.420423</td>\n      <td>-0.998236</td>\n      <td>1.441590</td>\n      <td>-0.988848</td>\n      <td>-1.447624</td>\n      <td>-2.456474</td>\n      <td>-0.528337</td>\n      <td>-1.481343</td>\n      <td>-1.422598</td>\n      <td>1.924683</td>\n      <td>2.391165</td>\n    </tr>\n    <tr>\n      <th>15038</th>\n      <td>-1.430734</td>\n      <td>-0.935839</td>\n      <td>1.334652</td>\n      <td>-1.016605</td>\n      <td>-1.464635</td>\n      <td>-2.051083</td>\n      <td>0.057689</td>\n      <td>-1.428277</td>\n      <td>-1.377273</td>\n      <td>1.354150</td>\n      <td>2.321539</td>\n    </tr>\n  </tbody>\n</table>\n<p>15039 rows × 11 columns</p>\n</div>\n      <button class=\"colab-df-convert\" onclick=\"convertToInteractive('df-c6400101-b250-474a-adf5-72338478cc95')\"\n              title=\"Convert this dataframe to an interactive table.\"\n              style=\"display:none;\">\n        \n  <svg xmlns=\"http://www.w3.org/2000/svg\" height=\"24px\"viewBox=\"0 0 24 24\"\n       width=\"24px\">\n    <path d=\"M0 0h24v24H0V0z\" fill=\"none\"/>\n    <path d=\"M18.56 5.44l.94 2.06.94-2.06 2.06-.94-2.06-.94-.94-2.06-.94 2.06-2.06.94zm-11 1L8.5 8.5l.94-2.06 2.06-.94-2.06-.94L8.5 2.5l-.94 2.06-2.06.94zm10 10l.94 2.06.94-2.06 2.06-.94-2.06-.94-.94-2.06-.94 2.06-2.06.94z\"/><path d=\"M17.41 7.96l-1.37-1.37c-.4-.4-.92-.59-1.43-.59-.52 0-1.04.2-1.43.59L10.3 9.45l-7.72 7.72c-.78.78-.78 2.05 0 2.83L4 21.41c.39.39.9.59 1.41.59.51 0 1.02-.2 1.41-.59l7.78-7.78 2.81-2.81c.8-.78.8-2.07 0-2.86zM5.41 20L4 18.59l7.72-7.72 1.47 1.35L5.41 20z\"/>\n  </svg>\n      </button>\n      \n  <style>\n    .colab-df-container {\n      display:flex;\n      flex-wrap:wrap;\n      gap: 12px;\n    }\n\n    .colab-df-convert {\n      background-color: #E8F0FE;\n      border: none;\n      border-radius: 50%;\n      cursor: pointer;\n      display: none;\n      fill: #1967D2;\n      height: 32px;\n      padding: 0 0 0 0;\n      width: 32px;\n    }\n\n    .colab-df-convert:hover {\n      background-color: #E2EBFA;\n      box-shadow: 0px 1px 2px rgba(60, 64, 67, 0.3), 0px 1px 3px 1px rgba(60, 64, 67, 0.15);\n      fill: #174EA6;\n    }\n\n    [theme=dark] .colab-df-convert {\n      background-color: #3B4455;\n      fill: #D2E3FC;\n    }\n\n    [theme=dark] .colab-df-convert:hover {\n      background-color: #434B5C;\n      box-shadow: 0px 1px 3px 1px rgba(0, 0, 0, 0.15);\n      filter: drop-shadow(0px 1px 2px rgba(0, 0, 0, 0.3));\n      fill: #FFFFFF;\n    }\n  </style>\n\n      <script>\n        const buttonEl =\n          document.querySelector('#df-c6400101-b250-474a-adf5-72338478cc95 button.colab-df-convert');\n        buttonEl.style.display =\n          google.colab.kernel.accessAllowed ? 'block' : 'none';\n\n        async function convertToInteractive(key) {\n          const element = document.querySelector('#df-c6400101-b250-474a-adf5-72338478cc95');\n          const dataTable =\n            await google.colab.kernel.invokeFunction('convertToInteractive',\n                                                     [key], {});\n          if (!dataTable) return;\n\n          const docLinkHtml = 'Like what you see? Visit the ' +\n            '<a target=\"_blank\" href=https://colab.research.google.com/notebooks/data_table.ipynb>data table notebook</a>'\n            + ' to learn more about interactive tables.';\n          element.innerHTML = '';\n          dataTable['output_type'] = 'display_data';\n          await google.colab.output.renderOutput(dataTable, element);\n          const docLink = document.createElement('div');\n          docLink.innerHTML = docLinkHtml;\n          element.appendChild(docLink);\n        }\n      </script>\n    </div>\n  </div>\n  ",
            "text/plain": "             AT        AP        AH      AFDP      GTEP       TIT       TAT  \\\n0     -1.439778 -0.826644  1.281436 -0.921232 -1.379101 -1.488376  0.585240   \n1     -1.449601 -0.748647  1.304564 -0.921495 -1.363528 -1.482325  0.585240   \n2     -1.434721 -0.686250  1.219086 -0.944385 -1.351309 -1.476275  0.568715   \n3     -1.413702 -0.623853  1.169060 -0.946884 -1.348194 -1.464173  0.583969   \n4     -1.368693 -0.545857  1.161883 -0.924389 -1.354663 -1.458123  0.582698   \n...         ...       ...       ...       ...       ...       ...       ...   \n15034 -1.153182 -1.185428  1.401860 -0.865850 -1.498657 -2.063184  0.103453   \n15035 -1.303986 -1.138630  1.447753 -0.913470 -1.438759 -2.268905 -0.276638   \n15036 -1.386267 -1.076233  1.476971 -0.951488 -1.410967 -2.789257 -1.026650   \n15037 -1.420423 -0.998236  1.441590 -0.988848 -1.447624 -2.456474 -0.528337   \n15038 -1.430734 -0.935839  1.334652 -1.016605 -1.464635 -2.051083  0.057689   \n\n            TEY       CDP        CO       NOX  \n0     -1.231172 -1.357331  0.532012  1.387845  \n1     -1.229909 -1.363676  0.568733  1.393002  \n2     -1.230541 -1.360957  0.552938  1.363586  \n3     -1.229909 -1.356424  0.548933  1.382878  \n4     -1.229909 -1.350985  0.574179  1.348591  \n...         ...       ...       ...       ...  \n15034 -1.426381 -1.543161  1.145792  1.085751  \n15035 -1.415642 -1.513247  1.293578  1.119943  \n15036 -1.516089 -1.467922  2.695925  2.170062  \n15037 -1.481343 -1.422598  1.924683  2.391165  \n15038 -1.428277 -1.377273  1.354150  2.321539  \n\n[15039 rows x 11 columns]"
          },
          "execution_count": 11,
          "metadata": {},
          "output_type": "execute_result"
        }
      ]
    },
    {
      "metadata": {
        "id": "4QJ9nvf7U3Dh",
        "trusted": false
      },
      "cell_type": "code",
      "source": "X=df.drop([\"TEY\"],axis=1)\ny=df[\"TEY\"]",
      "execution_count": 12,
      "outputs": []
    },
    {
      "metadata": {
        "colab": {
          "base_uri": "https://localhost:8080/",
          "height": 423
        },
        "id": "RsjeaJhjU3q5",
        "outputId": "6c2f49a4-e19a-4481-c973-3dc2ad63358d",
        "trusted": false
      },
      "cell_type": "code",
      "source": "X",
      "execution_count": 13,
      "outputs": [
        {
          "data": {
            "text/html": "\n  <div id=\"df-4ee49ae2-bb7d-4168-8cd1-9ac6f3d45cc3\">\n    <div class=\"colab-df-container\">\n      <div>\n<style scoped>\n    .dataframe tbody tr th:only-of-type {\n        vertical-align: middle;\n    }\n\n    .dataframe tbody tr th {\n        vertical-align: top;\n    }\n\n    .dataframe thead th {\n        text-align: right;\n    }\n</style>\n<table border=\"1\" class=\"dataframe\">\n  <thead>\n    <tr style=\"text-align: right;\">\n      <th></th>\n      <th>AT</th>\n      <th>AP</th>\n      <th>AH</th>\n      <th>AFDP</th>\n      <th>GTEP</th>\n      <th>TIT</th>\n      <th>TAT</th>\n      <th>CDP</th>\n      <th>CO</th>\n      <th>NOX</th>\n    </tr>\n  </thead>\n  <tbody>\n    <tr>\n      <th>0</th>\n      <td>6.8594</td>\n      <td>1007.9</td>\n      <td>96.799</td>\n      <td>3.5000</td>\n      <td>19.663</td>\n      <td>1059.2</td>\n      <td>550.00</td>\n      <td>10.605</td>\n      <td>3.1547</td>\n      <td>82.722</td>\n    </tr>\n    <tr>\n      <th>1</th>\n      <td>6.7850</td>\n      <td>1008.4</td>\n      <td>97.118</td>\n      <td>3.4998</td>\n      <td>19.728</td>\n      <td>1059.3</td>\n      <td>550.00</td>\n      <td>10.598</td>\n      <td>3.2363</td>\n      <td>82.776</td>\n    </tr>\n    <tr>\n      <th>2</th>\n      <td>6.8977</td>\n      <td>1008.8</td>\n      <td>95.939</td>\n      <td>3.4824</td>\n      <td>19.779</td>\n      <td>1059.4</td>\n      <td>549.87</td>\n      <td>10.601</td>\n      <td>3.2012</td>\n      <td>82.468</td>\n    </tr>\n    <tr>\n      <th>3</th>\n      <td>7.0569</td>\n      <td>1009.2</td>\n      <td>95.249</td>\n      <td>3.4805</td>\n      <td>19.792</td>\n      <td>1059.6</td>\n      <td>549.99</td>\n      <td>10.606</td>\n      <td>3.1923</td>\n      <td>82.670</td>\n    </tr>\n    <tr>\n      <th>4</th>\n      <td>7.3978</td>\n      <td>1009.7</td>\n      <td>95.150</td>\n      <td>3.4976</td>\n      <td>19.765</td>\n      <td>1059.7</td>\n      <td>549.98</td>\n      <td>10.612</td>\n      <td>3.2484</td>\n      <td>82.311</td>\n    </tr>\n    <tr>\n      <th>...</th>\n      <td>...</td>\n      <td>...</td>\n      <td>...</td>\n      <td>...</td>\n      <td>...</td>\n      <td>...</td>\n      <td>...</td>\n      <td>...</td>\n      <td>...</td>\n      <td>...</td>\n    </tr>\n    <tr>\n      <th>15034</th>\n      <td>9.0301</td>\n      <td>1005.6</td>\n      <td>98.460</td>\n      <td>3.5421</td>\n      <td>19.164</td>\n      <td>1049.7</td>\n      <td>546.21</td>\n      <td>10.400</td>\n      <td>4.5186</td>\n      <td>79.559</td>\n    </tr>\n    <tr>\n      <th>15035</th>\n      <td>7.8879</td>\n      <td>1005.9</td>\n      <td>99.093</td>\n      <td>3.5059</td>\n      <td>19.414</td>\n      <td>1046.3</td>\n      <td>543.22</td>\n      <td>10.433</td>\n      <td>4.8470</td>\n      <td>79.917</td>\n    </tr>\n    <tr>\n      <th>15036</th>\n      <td>7.2647</td>\n      <td>1006.3</td>\n      <td>99.496</td>\n      <td>3.4770</td>\n      <td>19.530</td>\n      <td>1037.7</td>\n      <td>537.32</td>\n      <td>10.483</td>\n      <td>7.9632</td>\n      <td>90.912</td>\n    </tr>\n    <tr>\n      <th>15037</th>\n      <td>7.0060</td>\n      <td>1006.8</td>\n      <td>99.008</td>\n      <td>3.4486</td>\n      <td>19.377</td>\n      <td>1043.2</td>\n      <td>541.24</td>\n      <td>10.533</td>\n      <td>6.2494</td>\n      <td>93.227</td>\n    </tr>\n    <tr>\n      <th>15038</th>\n      <td>6.9279</td>\n      <td>1007.2</td>\n      <td>97.533</td>\n      <td>3.4275</td>\n      <td>19.306</td>\n      <td>1049.9</td>\n      <td>545.85</td>\n      <td>10.583</td>\n      <td>4.9816</td>\n      <td>92.498</td>\n    </tr>\n  </tbody>\n</table>\n<p>15039 rows × 10 columns</p>\n</div>\n      <button class=\"colab-df-convert\" onclick=\"convertToInteractive('df-4ee49ae2-bb7d-4168-8cd1-9ac6f3d45cc3')\"\n              title=\"Convert this dataframe to an interactive table.\"\n              style=\"display:none;\">\n        \n  <svg xmlns=\"http://www.w3.org/2000/svg\" height=\"24px\"viewBox=\"0 0 24 24\"\n       width=\"24px\">\n    <path d=\"M0 0h24v24H0V0z\" fill=\"none\"/>\n    <path d=\"M18.56 5.44l.94 2.06.94-2.06 2.06-.94-2.06-.94-.94-2.06-.94 2.06-2.06.94zm-11 1L8.5 8.5l.94-2.06 2.06-.94-2.06-.94L8.5 2.5l-.94 2.06-2.06.94zm10 10l.94 2.06.94-2.06 2.06-.94-2.06-.94-.94-2.06-.94 2.06-2.06.94z\"/><path d=\"M17.41 7.96l-1.37-1.37c-.4-.4-.92-.59-1.43-.59-.52 0-1.04.2-1.43.59L10.3 9.45l-7.72 7.72c-.78.78-.78 2.05 0 2.83L4 21.41c.39.39.9.59 1.41.59.51 0 1.02-.2 1.41-.59l7.78-7.78 2.81-2.81c.8-.78.8-2.07 0-2.86zM5.41 20L4 18.59l7.72-7.72 1.47 1.35L5.41 20z\"/>\n  </svg>\n      </button>\n      \n  <style>\n    .colab-df-container {\n      display:flex;\n      flex-wrap:wrap;\n      gap: 12px;\n    }\n\n    .colab-df-convert {\n      background-color: #E8F0FE;\n      border: none;\n      border-radius: 50%;\n      cursor: pointer;\n      display: none;\n      fill: #1967D2;\n      height: 32px;\n      padding: 0 0 0 0;\n      width: 32px;\n    }\n\n    .colab-df-convert:hover {\n      background-color: #E2EBFA;\n      box-shadow: 0px 1px 2px rgba(60, 64, 67, 0.3), 0px 1px 3px 1px rgba(60, 64, 67, 0.15);\n      fill: #174EA6;\n    }\n\n    [theme=dark] .colab-df-convert {\n      background-color: #3B4455;\n      fill: #D2E3FC;\n    }\n\n    [theme=dark] .colab-df-convert:hover {\n      background-color: #434B5C;\n      box-shadow: 0px 1px 3px 1px rgba(0, 0, 0, 0.15);\n      filter: drop-shadow(0px 1px 2px rgba(0, 0, 0, 0.3));\n      fill: #FFFFFF;\n    }\n  </style>\n\n      <script>\n        const buttonEl =\n          document.querySelector('#df-4ee49ae2-bb7d-4168-8cd1-9ac6f3d45cc3 button.colab-df-convert');\n        buttonEl.style.display =\n          google.colab.kernel.accessAllowed ? 'block' : 'none';\n\n        async function convertToInteractive(key) {\n          const element = document.querySelector('#df-4ee49ae2-bb7d-4168-8cd1-9ac6f3d45cc3');\n          const dataTable =\n            await google.colab.kernel.invokeFunction('convertToInteractive',\n                                                     [key], {});\n          if (!dataTable) return;\n\n          const docLinkHtml = 'Like what you see? Visit the ' +\n            '<a target=\"_blank\" href=https://colab.research.google.com/notebooks/data_table.ipynb>data table notebook</a>'\n            + ' to learn more about interactive tables.';\n          element.innerHTML = '';\n          dataTable['output_type'] = 'display_data';\n          await google.colab.output.renderOutput(dataTable, element);\n          const docLink = document.createElement('div');\n          docLink.innerHTML = docLinkHtml;\n          element.appendChild(docLink);\n        }\n      </script>\n    </div>\n  </div>\n  ",
            "text/plain": "           AT      AP      AH    AFDP    GTEP     TIT     TAT     CDP      CO  \\\n0      6.8594  1007.9  96.799  3.5000  19.663  1059.2  550.00  10.605  3.1547   \n1      6.7850  1008.4  97.118  3.4998  19.728  1059.3  550.00  10.598  3.2363   \n2      6.8977  1008.8  95.939  3.4824  19.779  1059.4  549.87  10.601  3.2012   \n3      7.0569  1009.2  95.249  3.4805  19.792  1059.6  549.99  10.606  3.1923   \n4      7.3978  1009.7  95.150  3.4976  19.765  1059.7  549.98  10.612  3.2484   \n...       ...     ...     ...     ...     ...     ...     ...     ...     ...   \n15034  9.0301  1005.6  98.460  3.5421  19.164  1049.7  546.21  10.400  4.5186   \n15035  7.8879  1005.9  99.093  3.5059  19.414  1046.3  543.22  10.433  4.8470   \n15036  7.2647  1006.3  99.496  3.4770  19.530  1037.7  537.32  10.483  7.9632   \n15037  7.0060  1006.8  99.008  3.4486  19.377  1043.2  541.24  10.533  6.2494   \n15038  6.9279  1007.2  97.533  3.4275  19.306  1049.9  545.85  10.583  4.9816   \n\n          NOX  \n0      82.722  \n1      82.776  \n2      82.468  \n3      82.670  \n4      82.311  \n...       ...  \n15034  79.559  \n15035  79.917  \n15036  90.912  \n15037  93.227  \n15038  92.498  \n\n[15039 rows x 10 columns]"
          },
          "execution_count": 13,
          "metadata": {},
          "output_type": "execute_result"
        }
      ]
    },
    {
      "metadata": {
        "colab": {
          "base_uri": "https://localhost:8080/"
        },
        "id": "Y1153nWRU4Wz",
        "outputId": "c817cb05-6f21-4761-823b-d3adde65201f",
        "trusted": false
      },
      "cell_type": "code",
      "source": "y",
      "execution_count": 14,
      "outputs": [
        {
          "data": {
            "text/plain": "0        114.70\n1        114.72\n2        114.71\n3        114.72\n4        114.72\n          ...  \n15034    111.61\n15035    111.78\n15036    110.19\n15037    110.74\n15038    111.58\nName: TEY, Length: 15039, dtype: float64"
          },
          "execution_count": 14,
          "metadata": {},
          "output_type": "execute_result"
        }
      ]
    },
    {
      "metadata": {
        "id": "C-n3AerGU4-L",
        "trusted": false
      },
      "cell_type": "code",
      "source": "from sklearn.model_selection import GridSearchCV, KFold\nfrom keras.models import Sequential\nfrom keras.layers import Dense\nfrom keras.wrappers.scikit_learn import KerasClassifier\nfrom tensorflow.keras.optimizers import Adam, SGD, RMSprop  ",
      "execution_count": 15,
      "outputs": []
    },
    {
      "metadata": {
        "colab": {
          "base_uri": "https://localhost:8080/"
        },
        "id": "KrRYQSsHVWM8",
        "outputId": "260ed3b2-f122-482e-fc74-daf18618f1ef",
        "trusted": false
      },
      "cell_type": "code",
      "source": "n_features =X.shape[1]\nn_features",
      "execution_count": 16,
      "outputs": [
        {
          "data": {
            "text/plain": "10"
          },
          "execution_count": 16,
          "metadata": {},
          "output_type": "execute_result"
        }
      ]
    },
    {
      "metadata": {
        "id": "fLfrW1PoVqhi",
        "trusted": false
      },
      "cell_type": "code",
      "source": "def create_model():\n  model = Sequential()\n  model.add(Dense(12, input_dim=n_features, kernel_initializer='uniform', activation='relu'))\n  model.add(Dense(8, kernel_initializer='uniform', activation='relu'))\n  model.add(Dense(1, kernel_initializer='uniform', activation='sigmoid'))\n  optmizer =RMSprop(0.03)\n  model.compile(loss='mean_squared_error', optimizer=optmizer, metrics=['accuracy'])\n  return model",
      "execution_count": 17,
      "outputs": []
    },
    {
      "metadata": {
        "colab": {
          "base_uri": "https://localhost:8080/"
        },
        "id": "W69-ku2CVyqZ",
        "outputId": "8395cd7b-9b80-4dc2-ab1d-ad64886c9107",
        "trusted": false
      },
      "cell_type": "code",
      "source": "model = KerasClassifier(build_fn = create_model,verbose = 0)\nbatch_size = [10,20,40]\nepochs = [10,50,100]\nparam_grid = dict(batch_size = batch_size,epochs = epochs)\ngrid = GridSearchCV(estimator = model,param_grid = param_grid,cv = KFold(),verbose = 10)\ngrid_result = grid.fit(X,y)",
      "execution_count": 18,
      "outputs": [
        {
          "name": "stderr",
          "output_type": "stream",
          "text": "/usr/local/lib/python3.7/dist-packages/ipykernel_launcher.py:1: DeprecationWarning: KerasClassifier is deprecated, use Sci-Keras (https://github.com/adriangb/scikeras) instead. See https://www.adriangb.com/scikeras/stable/migration.html for help migrating.\n  \"\"\"Entry point for launching an IPython kernel.\n"
        },
        {
          "name": "stdout",
          "output_type": "stream",
          "text": "Fitting 5 folds for each of 9 candidates, totalling 45 fits\n[CV 1/5; 1/9] START batch_size=10, epochs=10....................................\n[CV 1/5; 1/9] END .....batch_size=10, epochs=10;, score=0.000 total time=  23.0s\n[CV 2/5; 1/9] START batch_size=10, epochs=10....................................\n[CV 2/5; 1/9] END .....batch_size=10, epochs=10;, score=0.000 total time=  21.5s\n[CV 3/5; 1/9] START batch_size=10, epochs=10....................................\n[CV 3/5; 1/9] END .....batch_size=10, epochs=10;, score=0.000 total time=  21.5s\n[CV 4/5; 1/9] START batch_size=10, epochs=10....................................\n[CV 4/5; 1/9] END .....batch_size=10, epochs=10;, score=0.000 total time=  14.5s\n[CV 5/5; 1/9] START batch_size=10, epochs=10....................................\n[CV 5/5; 1/9] END .....batch_size=10, epochs=10;, score=0.000 total time=  14.3s\n[CV 1/5; 2/9] START batch_size=10, epochs=50....................................\n[CV 1/5; 2/9] END .....batch_size=10, epochs=50;, score=0.000 total time= 1.1min\n[CV 2/5; 2/9] START batch_size=10, epochs=50....................................\n[CV 2/5; 2/9] END .....batch_size=10, epochs=50;, score=0.000 total time= 1.4min\n[CV 3/5; 2/9] START batch_size=10, epochs=50....................................\n[CV 3/5; 2/9] END .....batch_size=10, epochs=50;, score=0.000 total time= 1.4min\n[CV 4/5; 2/9] START batch_size=10, epochs=50....................................\n[CV 4/5; 2/9] END .....batch_size=10, epochs=50;, score=0.000 total time= 1.1min\n[CV 5/5; 2/9] START batch_size=10, epochs=50....................................\n[CV 5/5; 2/9] END .....batch_size=10, epochs=50;, score=0.000 total time= 1.1min\n[CV 1/5; 3/9] START batch_size=10, epochs=100...................................\n[CV 1/5; 3/9] END ....batch_size=10, epochs=100;, score=0.000 total time= 2.4min\n[CV 2/5; 3/9] START batch_size=10, epochs=100...................................\n[CV 2/5; 3/9] END ....batch_size=10, epochs=100;, score=0.000 total time= 2.4min\n[CV 3/5; 3/9] START batch_size=10, epochs=100...................................\n[CV 3/5; 3/9] END ....batch_size=10, epochs=100;, score=0.000 total time= 2.4min\n[CV 4/5; 3/9] START batch_size=10, epochs=100...................................\n[CV 4/5; 3/9] END ....batch_size=10, epochs=100;, score=0.000 total time= 2.4min\n[CV 5/5; 3/9] START batch_size=10, epochs=100...................................\n[CV 5/5; 3/9] END ....batch_size=10, epochs=100;, score=0.000 total time= 2.4min\n[CV 1/5; 4/9] START batch_size=20, epochs=10....................................\n[CV 1/5; 4/9] END .....batch_size=20, epochs=10;, score=0.000 total time=  11.5s\n[CV 2/5; 4/9] START batch_size=20, epochs=10....................................\n[CV 2/5; 4/9] END .....batch_size=20, epochs=10;, score=0.000 total time=  11.1s\n[CV 3/5; 4/9] START batch_size=20, epochs=10....................................\n[CV 3/5; 4/9] END .....batch_size=20, epochs=10;, score=0.000 total time=   7.4s\n[CV 4/5; 4/9] START batch_size=20, epochs=10....................................\n[CV 4/5; 4/9] END .....batch_size=20, epochs=10;, score=0.000 total time=   7.6s\n[CV 5/5; 4/9] START batch_size=20, epochs=10....................................\n[CV 5/5; 4/9] END .....batch_size=20, epochs=10;, score=0.000 total time=   7.4s\n[CV 1/5; 5/9] START batch_size=20, epochs=50....................................\n[CV 1/5; 5/9] END .....batch_size=20, epochs=50;, score=0.000 total time=  33.6s\n[CV 2/5; 5/9] START batch_size=20, epochs=50....................................\n[CV 2/5; 5/9] END .....batch_size=20, epochs=50;, score=0.000 total time=  41.8s\n[CV 3/5; 5/9] START batch_size=20, epochs=50....................................\n[CV 3/5; 5/9] END .....batch_size=20, epochs=50;, score=0.000 total time=  34.1s\n[CV 4/5; 5/9] START batch_size=20, epochs=50....................................\n[CV 4/5; 5/9] END .....batch_size=20, epochs=50;, score=0.000 total time=  41.9s\n[CV 5/5; 5/9] START batch_size=20, epochs=50....................................\n[CV 5/5; 5/9] END .....batch_size=20, epochs=50;, score=0.000 total time=  41.9s\n[CV 1/5; 6/9] START batch_size=20, epochs=100...................................\n[CV 1/5; 6/9] END ....batch_size=20, epochs=100;, score=0.000 total time= 1.1min\n[CV 2/5; 6/9] START batch_size=20, epochs=100...................................\n[CV 2/5; 6/9] END ....batch_size=20, epochs=100;, score=0.000 total time= 1.4min\n[CV 3/5; 6/9] START batch_size=20, epochs=100...................................\n[CV 3/5; 6/9] END ....batch_size=20, epochs=100;, score=0.000 total time= 1.1min\n[CV 4/5; 6/9] START batch_size=20, epochs=100...................................\n[CV 4/5; 6/9] END ....batch_size=20, epochs=100;, score=0.000 total time= 1.4min\n[CV 5/5; 6/9] START batch_size=20, epochs=100...................................\n[CV 5/5; 6/9] END ....batch_size=20, epochs=100;, score=0.000 total time= 1.1min\n[CV 1/5; 7/9] START batch_size=40, epochs=10....................................\n[CV 1/5; 7/9] END .....batch_size=40, epochs=10;, score=0.000 total time=   4.3s\n[CV 2/5; 7/9] START batch_size=40, epochs=10....................................\n[CV 2/5; 7/9] END .....batch_size=40, epochs=10;, score=0.000 total time=   5.9s\n[CV 3/5; 7/9] START batch_size=40, epochs=10....................................\n[CV 3/5; 7/9] END .....batch_size=40, epochs=10;, score=0.000 total time=   4.2s\n[CV 4/5; 7/9] START batch_size=40, epochs=10....................................\n[CV 4/5; 7/9] END .....batch_size=40, epochs=10;, score=0.000 total time=   5.9s\n[CV 5/5; 7/9] START batch_size=40, epochs=10....................................\n[CV 5/5; 7/9] END .....batch_size=40, epochs=10;, score=0.000 total time=   6.0s\n[CV 1/5; 8/9] START batch_size=40, epochs=50....................................\n[CV 1/5; 8/9] END .....batch_size=40, epochs=50;, score=0.000 total time=  17.3s\n[CV 2/5; 8/9] START batch_size=40, epochs=50....................................\n[CV 2/5; 8/9] END .....batch_size=40, epochs=50;, score=0.000 total time=  17.6s\n[CV 3/5; 8/9] START batch_size=40, epochs=50....................................\n[CV 3/5; 8/9] END .....batch_size=40, epochs=50;, score=0.000 total time=  17.3s\n[CV 4/5; 8/9] START batch_size=40, epochs=50....................................\n[CV 4/5; 8/9] END .....batch_size=40, epochs=50;, score=0.000 total time=  21.3s\n[CV 5/5; 8/9] START batch_size=40, epochs=50....................................\n[CV 5/5; 8/9] END .....batch_size=40, epochs=50;, score=0.000 total time=  21.4s\n[CV 1/5; 9/9] START batch_size=40, epochs=100...................................\n[CV 1/5; 9/9] END ....batch_size=40, epochs=100;, score=0.000 total time=  41.8s\n[CV 2/5; 9/9] START batch_size=40, epochs=100...................................\n[CV 2/5; 9/9] END ....batch_size=40, epochs=100;, score=0.000 total time=  33.8s\n[CV 3/5; 9/9] START batch_size=40, epochs=100...................................\n[CV 3/5; 9/9] END ....batch_size=40, epochs=100;, score=0.000 total time=  41.8s\n[CV 4/5; 9/9] START batch_size=40, epochs=100...................................\n[CV 4/5; 9/9] END ....batch_size=40, epochs=100;, score=0.000 total time=  33.8s\n[CV 5/5; 9/9] START batch_size=40, epochs=100...................................\n[CV 5/5; 9/9] END ....batch_size=40, epochs=100;, score=0.000 total time=  41.8s\n"
        }
      ]
    },
    {
      "metadata": {
        "colab": {
          "base_uri": "https://localhost:8080/"
        },
        "id": "0MFZCjamV5IY",
        "outputId": "c816f310-966c-40ee-eee3-9206e145808a",
        "trusted": false
      },
      "cell_type": "code",
      "source": "print('Best : {}, using {}'.format(grid_result.best_score_,grid_result.best_params_))\nmeans = grid_result.cv_results_['mean_test_score']\nstds = grid_result.cv_results_['std_test_score']\nparams = grid_result.cv_results_['params']\nfor mean, stdev, param in zip(means, stds, params):\n  print('{},{} with: {}'.format(mean, stdev, param))",
      "execution_count": 19,
      "outputs": [
        {
          "name": "stdout",
          "output_type": "stream",
          "text": "Best : 0.0, using {'batch_size': 10, 'epochs': 10}\n0.0,0.0 with: {'batch_size': 10, 'epochs': 10}\n0.0,0.0 with: {'batch_size': 10, 'epochs': 50}\n0.0,0.0 with: {'batch_size': 10, 'epochs': 100}\n0.0,0.0 with: {'batch_size': 20, 'epochs': 10}\n0.0,0.0 with: {'batch_size': 20, 'epochs': 50}\n0.0,0.0 with: {'batch_size': 20, 'epochs': 100}\n0.0,0.0 with: {'batch_size': 40, 'epochs': 10}\n0.0,0.0 with: {'batch_size': 40, 'epochs': 50}\n0.0,0.0 with: {'batch_size': 40, 'epochs': 100}\n"
        }
      ]
    },
    {
      "metadata": {
        "id": "V-f9ApR2WAEu",
        "trusted": false
      },
      "cell_type": "code",
      "source": "from keras.layers import Dropout",
      "execution_count": 20,
      "outputs": []
    },
    {
      "metadata": {
        "id": "Nnqb3TrxWCl4",
        "trusted": false
      },
      "cell_type": "code",
      "source": "def create_model(learning_rate,dropout_rate):\n  model = Sequential()\n  model.add(Dense(8,input_dim = n_features,kernel_initializer = 'normal',activation = 'relu'))\n  model.add(Dropout(dropout_rate))\n  model.add(Dense(4,input_dim = n_features,kernel_initializer = 'normal',activation = 'relu'))\n  model.add(Dropout(dropout_rate))\n  model.add(Dense(1,activation = 'sigmoid'))\n  adam = Adam(lr = learning_rate)\n  model.compile(loss='mean_squared_error',optimizer = adam,metrics = ['accuracy'])\n  return model",
      "execution_count": 21,
      "outputs": []
    },
    {
      "metadata": {
        "colab": {
          "base_uri": "https://localhost:8080/"
        },
        "id": "dTEdJGoDWIm2",
        "outputId": "0176af16-57b2-475a-ee9e-ee9c26bcb4d9",
        "trusted": false
      },
      "cell_type": "code",
      "source": "model = KerasClassifier(build_fn = create_model,verbose = 0,batch_size = 10,epochs = 10)\nlearning_rate = [0.001,0.01,0.1]\ndropout_rate = [0.0,0.1,0.2]\nparam_grids = dict(learning_rate = learning_rate,dropout_rate = dropout_rate)\ngrid = GridSearchCV(estimator = model,param_grid = param_grids,cv = KFold(),verbose = 10)\ngrid_result = grid.fit(X,y)",
      "execution_count": 22,
      "outputs": [
        {
          "name": "stdout",
          "output_type": "stream",
          "text": "Fitting 5 folds for each of 9 candidates, totalling 45 fits\n[CV 1/5; 1/9] START dropout_rate=0.0, learning_rate=0.001.......................\n"
        },
        {
          "name": "stderr",
          "output_type": "stream",
          "text": "/usr/local/lib/python3.7/dist-packages/ipykernel_launcher.py:1: DeprecationWarning: KerasClassifier is deprecated, use Sci-Keras (https://github.com/adriangb/scikeras) instead. See https://www.adriangb.com/scikeras/stable/migration.html for help migrating.\n  \"\"\"Entry point for launching an IPython kernel.\n/usr/local/lib/python3.7/dist-packages/keras/optimizer_v2/adam.py:105: UserWarning: The `lr` argument is deprecated, use `learning_rate` instead.\n  super(Adam, self).__init__(name, **kwargs)\n"
        },
        {
          "name": "stdout",
          "output_type": "stream",
          "text": "[CV 1/5; 1/9] END dropout_rate=0.0, learning_rate=0.001;, score=0.000 total time=  14.2s\n[CV 2/5; 1/9] START dropout_rate=0.0, learning_rate=0.001.......................\n"
        },
        {
          "name": "stderr",
          "output_type": "stream",
          "text": "/usr/local/lib/python3.7/dist-packages/keras/optimizer_v2/adam.py:105: UserWarning: The `lr` argument is deprecated, use `learning_rate` instead.\n  super(Adam, self).__init__(name, **kwargs)\n"
        },
        {
          "name": "stdout",
          "output_type": "stream",
          "text": "[CV 2/5; 1/9] END dropout_rate=0.0, learning_rate=0.001;, score=0.000 total time=  14.0s\n[CV 3/5; 1/9] START dropout_rate=0.0, learning_rate=0.001.......................\n"
        },
        {
          "name": "stderr",
          "output_type": "stream",
          "text": "/usr/local/lib/python3.7/dist-packages/keras/optimizer_v2/adam.py:105: UserWarning: The `lr` argument is deprecated, use `learning_rate` instead.\n  super(Adam, self).__init__(name, **kwargs)\n"
        },
        {
          "name": "stdout",
          "output_type": "stream",
          "text": "[CV 3/5; 1/9] END dropout_rate=0.0, learning_rate=0.001;, score=0.000 total time=  21.4s\n[CV 4/5; 1/9] START dropout_rate=0.0, learning_rate=0.001.......................\n"
        },
        {
          "name": "stderr",
          "output_type": "stream",
          "text": "/usr/local/lib/python3.7/dist-packages/keras/optimizer_v2/adam.py:105: UserWarning: The `lr` argument is deprecated, use `learning_rate` instead.\n  super(Adam, self).__init__(name, **kwargs)\n"
        },
        {
          "name": "stdout",
          "output_type": "stream",
          "text": "[CV 4/5; 1/9] END dropout_rate=0.0, learning_rate=0.001;, score=0.000 total time=  13.6s\n[CV 5/5; 1/9] START dropout_rate=0.0, learning_rate=0.001.......................\n"
        },
        {
          "name": "stderr",
          "output_type": "stream",
          "text": "/usr/local/lib/python3.7/dist-packages/keras/optimizer_v2/adam.py:105: UserWarning: The `lr` argument is deprecated, use `learning_rate` instead.\n  super(Adam, self).__init__(name, **kwargs)\n"
        },
        {
          "name": "stdout",
          "output_type": "stream",
          "text": "[CV 5/5; 1/9] END dropout_rate=0.0, learning_rate=0.001;, score=0.000 total time=  21.4s\n[CV 1/5; 2/9] START dropout_rate=0.0, learning_rate=0.01........................\n"
        },
        {
          "name": "stderr",
          "output_type": "stream",
          "text": "/usr/local/lib/python3.7/dist-packages/keras/optimizer_v2/adam.py:105: UserWarning: The `lr` argument is deprecated, use `learning_rate` instead.\n  super(Adam, self).__init__(name, **kwargs)\n"
        },
        {
          "name": "stdout",
          "output_type": "stream",
          "text": "[CV 1/5; 2/9] END dropout_rate=0.0, learning_rate=0.01;, score=0.000 total time=  21.4s\n[CV 2/5; 2/9] START dropout_rate=0.0, learning_rate=0.01........................\n"
        },
        {
          "name": "stderr",
          "output_type": "stream",
          "text": "/usr/local/lib/python3.7/dist-packages/keras/optimizer_v2/adam.py:105: UserWarning: The `lr` argument is deprecated, use `learning_rate` instead.\n  super(Adam, self).__init__(name, **kwargs)\n"
        },
        {
          "name": "stdout",
          "output_type": "stream",
          "text": "[CV 2/5; 2/9] END dropout_rate=0.0, learning_rate=0.01;, score=0.000 total time=  21.4s\n[CV 3/5; 2/9] START dropout_rate=0.0, learning_rate=0.01........................\n"
        },
        {
          "name": "stderr",
          "output_type": "stream",
          "text": "/usr/local/lib/python3.7/dist-packages/keras/optimizer_v2/adam.py:105: UserWarning: The `lr` argument is deprecated, use `learning_rate` instead.\n  super(Adam, self).__init__(name, **kwargs)\n"
        },
        {
          "name": "stdout",
          "output_type": "stream",
          "text": "[CV 3/5; 2/9] END dropout_rate=0.0, learning_rate=0.01;, score=0.000 total time=  13.7s\n[CV 4/5; 2/9] START dropout_rate=0.0, learning_rate=0.01........................\n"
        },
        {
          "name": "stderr",
          "output_type": "stream",
          "text": "/usr/local/lib/python3.7/dist-packages/keras/optimizer_v2/adam.py:105: UserWarning: The `lr` argument is deprecated, use `learning_rate` instead.\n  super(Adam, self).__init__(name, **kwargs)\n"
        },
        {
          "name": "stdout",
          "output_type": "stream",
          "text": "[CV 4/5; 2/9] END dropout_rate=0.0, learning_rate=0.01;, score=0.000 total time=  13.6s\n[CV 5/5; 2/9] START dropout_rate=0.0, learning_rate=0.01........................\n"
        },
        {
          "name": "stderr",
          "output_type": "stream",
          "text": "/usr/local/lib/python3.7/dist-packages/keras/optimizer_v2/adam.py:105: UserWarning: The `lr` argument is deprecated, use `learning_rate` instead.\n  super(Adam, self).__init__(name, **kwargs)\n"
        },
        {
          "name": "stdout",
          "output_type": "stream",
          "text": "[CV 5/5; 2/9] END dropout_rate=0.0, learning_rate=0.01;, score=0.000 total time=  21.4s\n[CV 1/5; 3/9] START dropout_rate=0.0, learning_rate=0.1.........................\n"
        },
        {
          "name": "stderr",
          "output_type": "stream",
          "text": "/usr/local/lib/python3.7/dist-packages/keras/optimizer_v2/adam.py:105: UserWarning: The `lr` argument is deprecated, use `learning_rate` instead.\n  super(Adam, self).__init__(name, **kwargs)\n"
        },
        {
          "name": "stdout",
          "output_type": "stream",
          "text": "[CV 1/5; 3/9] END dropout_rate=0.0, learning_rate=0.1;, score=0.000 total time=  21.4s\n[CV 2/5; 3/9] START dropout_rate=0.0, learning_rate=0.1.........................\n"
        },
        {
          "name": "stderr",
          "output_type": "stream",
          "text": "/usr/local/lib/python3.7/dist-packages/keras/optimizer_v2/adam.py:105: UserWarning: The `lr` argument is deprecated, use `learning_rate` instead.\n  super(Adam, self).__init__(name, **kwargs)\n"
        },
        {
          "name": "stdout",
          "output_type": "stream",
          "text": "[CV 2/5; 3/9] END dropout_rate=0.0, learning_rate=0.1;, score=0.000 total time=  21.4s\n[CV 3/5; 3/9] START dropout_rate=0.0, learning_rate=0.1.........................\n"
        },
        {
          "name": "stderr",
          "output_type": "stream",
          "text": "/usr/local/lib/python3.7/dist-packages/keras/optimizer_v2/adam.py:105: UserWarning: The `lr` argument is deprecated, use `learning_rate` instead.\n  super(Adam, self).__init__(name, **kwargs)\n"
        },
        {
          "name": "stdout",
          "output_type": "stream",
          "text": "[CV 3/5; 3/9] END dropout_rate=0.0, learning_rate=0.1;, score=0.000 total time=  13.8s\n[CV 4/5; 3/9] START dropout_rate=0.0, learning_rate=0.1.........................\n"
        },
        {
          "name": "stderr",
          "output_type": "stream",
          "text": "/usr/local/lib/python3.7/dist-packages/keras/optimizer_v2/adam.py:105: UserWarning: The `lr` argument is deprecated, use `learning_rate` instead.\n  super(Adam, self).__init__(name, **kwargs)\n"
        },
        {
          "name": "stdout",
          "output_type": "stream",
          "text": "[CV 4/5; 3/9] END dropout_rate=0.0, learning_rate=0.1;, score=0.000 total time=  14.2s\n[CV 5/5; 3/9] START dropout_rate=0.0, learning_rate=0.1.........................\n"
        },
        {
          "name": "stderr",
          "output_type": "stream",
          "text": "/usr/local/lib/python3.7/dist-packages/keras/optimizer_v2/adam.py:105: UserWarning: The `lr` argument is deprecated, use `learning_rate` instead.\n  super(Adam, self).__init__(name, **kwargs)\n"
        },
        {
          "name": "stdout",
          "output_type": "stream",
          "text": "[CV 5/5; 3/9] END dropout_rate=0.0, learning_rate=0.1;, score=0.000 total time=  14.4s\n[CV 1/5; 4/9] START dropout_rate=0.1, learning_rate=0.001.......................\n"
        },
        {
          "name": "stderr",
          "output_type": "stream",
          "text": "/usr/local/lib/python3.7/dist-packages/keras/optimizer_v2/adam.py:105: UserWarning: The `lr` argument is deprecated, use `learning_rate` instead.\n  super(Adam, self).__init__(name, **kwargs)\n"
        },
        {
          "name": "stdout",
          "output_type": "stream",
          "text": "[CV 1/5; 4/9] END dropout_rate=0.1, learning_rate=0.001;, score=0.000 total time=  21.5s\n[CV 2/5; 4/9] START dropout_rate=0.1, learning_rate=0.001.......................\n"
        },
        {
          "name": "stderr",
          "output_type": "stream",
          "text": "/usr/local/lib/python3.7/dist-packages/keras/optimizer_v2/adam.py:105: UserWarning: The `lr` argument is deprecated, use `learning_rate` instead.\n  super(Adam, self).__init__(name, **kwargs)\n"
        },
        {
          "name": "stdout",
          "output_type": "stream",
          "text": "[CV 2/5; 4/9] END dropout_rate=0.1, learning_rate=0.001;, score=0.000 total time=  21.8s\n[CV 3/5; 4/9] START dropout_rate=0.1, learning_rate=0.001.......................\n"
        },
        {
          "name": "stderr",
          "output_type": "stream",
          "text": "/usr/local/lib/python3.7/dist-packages/keras/optimizer_v2/adam.py:105: UserWarning: The `lr` argument is deprecated, use `learning_rate` instead.\n  super(Adam, self).__init__(name, **kwargs)\n"
        },
        {
          "name": "stdout",
          "output_type": "stream",
          "text": "[CV 3/5; 4/9] END dropout_rate=0.1, learning_rate=0.001;, score=0.000 total time=  21.5s\n[CV 4/5; 4/9] START dropout_rate=0.1, learning_rate=0.001.......................\n"
        },
        {
          "name": "stderr",
          "output_type": "stream",
          "text": "/usr/local/lib/python3.7/dist-packages/keras/optimizer_v2/adam.py:105: UserWarning: The `lr` argument is deprecated, use `learning_rate` instead.\n  super(Adam, self).__init__(name, **kwargs)\n"
        },
        {
          "name": "stdout",
          "output_type": "stream",
          "text": "[CV 4/5; 4/9] END dropout_rate=0.1, learning_rate=0.001;, score=0.000 total time=  20.3s\n[CV 5/5; 4/9] START dropout_rate=0.1, learning_rate=0.001.......................\n"
        },
        {
          "name": "stderr",
          "output_type": "stream",
          "text": "/usr/local/lib/python3.7/dist-packages/keras/optimizer_v2/adam.py:105: UserWarning: The `lr` argument is deprecated, use `learning_rate` instead.\n  super(Adam, self).__init__(name, **kwargs)\n"
        },
        {
          "name": "stdout",
          "output_type": "stream",
          "text": "[CV 5/5; 4/9] END dropout_rate=0.1, learning_rate=0.001;, score=0.000 total time=  14.0s\n[CV 1/5; 5/9] START dropout_rate=0.1, learning_rate=0.01........................\n"
        },
        {
          "name": "stderr",
          "output_type": "stream",
          "text": "/usr/local/lib/python3.7/dist-packages/keras/optimizer_v2/adam.py:105: UserWarning: The `lr` argument is deprecated, use `learning_rate` instead.\n  super(Adam, self).__init__(name, **kwargs)\n"
        },
        {
          "name": "stdout",
          "output_type": "stream",
          "text": "[CV 1/5; 5/9] END dropout_rate=0.1, learning_rate=0.01;, score=0.000 total time=  21.5s\n[CV 2/5; 5/9] START dropout_rate=0.1, learning_rate=0.01........................\n"
        },
        {
          "name": "stderr",
          "output_type": "stream",
          "text": "/usr/local/lib/python3.7/dist-packages/keras/optimizer_v2/adam.py:105: UserWarning: The `lr` argument is deprecated, use `learning_rate` instead.\n  super(Adam, self).__init__(name, **kwargs)\n"
        },
        {
          "name": "stdout",
          "output_type": "stream",
          "text": "[CV 2/5; 5/9] END dropout_rate=0.1, learning_rate=0.01;, score=0.000 total time=  21.5s\n[CV 3/5; 5/9] START dropout_rate=0.1, learning_rate=0.01........................\n"
        },
        {
          "name": "stderr",
          "output_type": "stream",
          "text": "/usr/local/lib/python3.7/dist-packages/keras/optimizer_v2/adam.py:105: UserWarning: The `lr` argument is deprecated, use `learning_rate` instead.\n  super(Adam, self).__init__(name, **kwargs)\n"
        },
        {
          "name": "stdout",
          "output_type": "stream",
          "text": "[CV 3/5; 5/9] END dropout_rate=0.1, learning_rate=0.01;, score=0.000 total time=  14.4s\n[CV 4/5; 5/9] START dropout_rate=0.1, learning_rate=0.01........................\n"
        },
        {
          "name": "stderr",
          "output_type": "stream",
          "text": "/usr/local/lib/python3.7/dist-packages/keras/optimizer_v2/adam.py:105: UserWarning: The `lr` argument is deprecated, use `learning_rate` instead.\n  super(Adam, self).__init__(name, **kwargs)\n"
        },
        {
          "name": "stdout",
          "output_type": "stream",
          "text": "[CV 4/5; 5/9] END dropout_rate=0.1, learning_rate=0.01;, score=0.000 total time=  13.8s\n[CV 5/5; 5/9] START dropout_rate=0.1, learning_rate=0.01........................\n"
        },
        {
          "name": "stderr",
          "output_type": "stream",
          "text": "/usr/local/lib/python3.7/dist-packages/keras/optimizer_v2/adam.py:105: UserWarning: The `lr` argument is deprecated, use `learning_rate` instead.\n  super(Adam, self).__init__(name, **kwargs)\n"
        },
        {
          "name": "stdout",
          "output_type": "stream",
          "text": "[CV 5/5; 5/9] END dropout_rate=0.1, learning_rate=0.01;, score=0.000 total time=  14.6s\n[CV 1/5; 6/9] START dropout_rate=0.1, learning_rate=0.1.........................\n"
        },
        {
          "name": "stderr",
          "output_type": "stream",
          "text": "/usr/local/lib/python3.7/dist-packages/keras/optimizer_v2/adam.py:105: UserWarning: The `lr` argument is deprecated, use `learning_rate` instead.\n  super(Adam, self).__init__(name, **kwargs)\n"
        },
        {
          "name": "stdout",
          "output_type": "stream",
          "text": "[CV 1/5; 6/9] END dropout_rate=0.1, learning_rate=0.1;, score=0.000 total time=  21.8s\n[CV 2/5; 6/9] START dropout_rate=0.1, learning_rate=0.1.........................\n"
        },
        {
          "name": "stderr",
          "output_type": "stream",
          "text": "/usr/local/lib/python3.7/dist-packages/keras/optimizer_v2/adam.py:105: UserWarning: The `lr` argument is deprecated, use `learning_rate` instead.\n  super(Adam, self).__init__(name, **kwargs)\n"
        },
        {
          "name": "stdout",
          "output_type": "stream",
          "text": "[CV 2/5; 6/9] END dropout_rate=0.1, learning_rate=0.1;, score=0.000 total time=  21.5s\n[CV 3/5; 6/9] START dropout_rate=0.1, learning_rate=0.1.........................\n"
        },
        {
          "name": "stderr",
          "output_type": "stream",
          "text": "/usr/local/lib/python3.7/dist-packages/keras/optimizer_v2/adam.py:105: UserWarning: The `lr` argument is deprecated, use `learning_rate` instead.\n  super(Adam, self).__init__(name, **kwargs)\n"
        },
        {
          "name": "stdout",
          "output_type": "stream",
          "text": "[CV 3/5; 6/9] END dropout_rate=0.1, learning_rate=0.1;, score=0.000 total time=  14.4s\n[CV 4/5; 6/9] START dropout_rate=0.1, learning_rate=0.1.........................\n"
        },
        {
          "name": "stderr",
          "output_type": "stream",
          "text": "/usr/local/lib/python3.7/dist-packages/keras/optimizer_v2/adam.py:105: UserWarning: The `lr` argument is deprecated, use `learning_rate` instead.\n  super(Adam, self).__init__(name, **kwargs)\n"
        },
        {
          "name": "stdout",
          "output_type": "stream",
          "text": "[CV 4/5; 6/9] END dropout_rate=0.1, learning_rate=0.1;, score=0.000 total time=  14.6s\n[CV 5/5; 6/9] START dropout_rate=0.1, learning_rate=0.1.........................\n"
        },
        {
          "name": "stderr",
          "output_type": "stream",
          "text": "/usr/local/lib/python3.7/dist-packages/keras/optimizer_v2/adam.py:105: UserWarning: The `lr` argument is deprecated, use `learning_rate` instead.\n  super(Adam, self).__init__(name, **kwargs)\n"
        },
        {
          "name": "stdout",
          "output_type": "stream",
          "text": "[CV 5/5; 6/9] END dropout_rate=0.1, learning_rate=0.1;, score=0.000 total time=  21.5s\n[CV 1/5; 7/9] START dropout_rate=0.2, learning_rate=0.001.......................\n"
        },
        {
          "name": "stderr",
          "output_type": "stream",
          "text": "/usr/local/lib/python3.7/dist-packages/keras/optimizer_v2/adam.py:105: UserWarning: The `lr` argument is deprecated, use `learning_rate` instead.\n  super(Adam, self).__init__(name, **kwargs)\n"
        },
        {
          "name": "stdout",
          "output_type": "stream",
          "text": "[CV 1/5; 7/9] END dropout_rate=0.2, learning_rate=0.001;, score=0.000 total time=  21.8s\n[CV 2/5; 7/9] START dropout_rate=0.2, learning_rate=0.001.......................\n"
        },
        {
          "name": "stderr",
          "output_type": "stream",
          "text": "/usr/local/lib/python3.7/dist-packages/keras/optimizer_v2/adam.py:105: UserWarning: The `lr` argument is deprecated, use `learning_rate` instead.\n  super(Adam, self).__init__(name, **kwargs)\n"
        },
        {
          "name": "stdout",
          "output_type": "stream",
          "text": "[CV 2/5; 7/9] END dropout_rate=0.2, learning_rate=0.001;, score=0.000 total time=  42.3s\n[CV 3/5; 7/9] START dropout_rate=0.2, learning_rate=0.001.......................\n"
        },
        {
          "name": "stderr",
          "output_type": "stream",
          "text": "/usr/local/lib/python3.7/dist-packages/keras/optimizer_v2/adam.py:105: UserWarning: The `lr` argument is deprecated, use `learning_rate` instead.\n  super(Adam, self).__init__(name, **kwargs)\n"
        },
        {
          "name": "stdout",
          "output_type": "stream",
          "text": "[CV 3/5; 7/9] END dropout_rate=0.2, learning_rate=0.001;, score=0.000 total time=  14.3s\n[CV 4/5; 7/9] START dropout_rate=0.2, learning_rate=0.001.......................\n"
        },
        {
          "name": "stderr",
          "output_type": "stream",
          "text": "/usr/local/lib/python3.7/dist-packages/keras/optimizer_v2/adam.py:105: UserWarning: The `lr` argument is deprecated, use `learning_rate` instead.\n  super(Adam, self).__init__(name, **kwargs)\n"
        },
        {
          "name": "stdout",
          "output_type": "stream",
          "text": "[CV 4/5; 7/9] END dropout_rate=0.2, learning_rate=0.001;, score=0.000 total time=  21.5s\n[CV 5/5; 7/9] START dropout_rate=0.2, learning_rate=0.001.......................\n"
        },
        {
          "name": "stderr",
          "output_type": "stream",
          "text": "/usr/local/lib/python3.7/dist-packages/keras/optimizer_v2/adam.py:105: UserWarning: The `lr` argument is deprecated, use `learning_rate` instead.\n  super(Adam, self).__init__(name, **kwargs)\n"
        },
        {
          "name": "stdout",
          "output_type": "stream",
          "text": "[CV 5/5; 7/9] END dropout_rate=0.2, learning_rate=0.001;, score=0.000 total time=  21.5s\n[CV 1/5; 8/9] START dropout_rate=0.2, learning_rate=0.01........................\n"
        },
        {
          "name": "stderr",
          "output_type": "stream",
          "text": "/usr/local/lib/python3.7/dist-packages/keras/optimizer_v2/adam.py:105: UserWarning: The `lr` argument is deprecated, use `learning_rate` instead.\n  super(Adam, self).__init__(name, **kwargs)\n"
        },
        {
          "name": "stdout",
          "output_type": "stream",
          "text": "[CV 1/5; 8/9] END dropout_rate=0.2, learning_rate=0.01;, score=0.000 total time=  14.1s\n[CV 2/5; 8/9] START dropout_rate=0.2, learning_rate=0.01........................\n"
        },
        {
          "name": "stderr",
          "output_type": "stream",
          "text": "/usr/local/lib/python3.7/dist-packages/keras/optimizer_v2/adam.py:105: UserWarning: The `lr` argument is deprecated, use `learning_rate` instead.\n  super(Adam, self).__init__(name, **kwargs)\n"
        },
        {
          "name": "stdout",
          "output_type": "stream",
          "text": "[CV 2/5; 8/9] END dropout_rate=0.2, learning_rate=0.01;, score=0.000 total time=  21.5s\n[CV 3/5; 8/9] START dropout_rate=0.2, learning_rate=0.01........................\n"
        },
        {
          "name": "stderr",
          "output_type": "stream",
          "text": "/usr/local/lib/python3.7/dist-packages/keras/optimizer_v2/adam.py:105: UserWarning: The `lr` argument is deprecated, use `learning_rate` instead.\n  super(Adam, self).__init__(name, **kwargs)\n"
        },
        {
          "name": "stdout",
          "output_type": "stream",
          "text": "[CV 3/5; 8/9] END dropout_rate=0.2, learning_rate=0.01;, score=0.000 total time=  21.8s\n[CV 4/5; 8/9] START dropout_rate=0.2, learning_rate=0.01........................\n"
        },
        {
          "name": "stderr",
          "output_type": "stream",
          "text": "/usr/local/lib/python3.7/dist-packages/keras/optimizer_v2/adam.py:105: UserWarning: The `lr` argument is deprecated, use `learning_rate` instead.\n  super(Adam, self).__init__(name, **kwargs)\n"
        },
        {
          "name": "stdout",
          "output_type": "stream",
          "text": "[CV 4/5; 8/9] END dropout_rate=0.2, learning_rate=0.01;, score=0.000 total time=  21.5s\n[CV 5/5; 8/9] START dropout_rate=0.2, learning_rate=0.01........................\n"
        },
        {
          "name": "stderr",
          "output_type": "stream",
          "text": "/usr/local/lib/python3.7/dist-packages/keras/optimizer_v2/adam.py:105: UserWarning: The `lr` argument is deprecated, use `learning_rate` instead.\n  super(Adam, self).__init__(name, **kwargs)\n"
        },
        {
          "name": "stdout",
          "output_type": "stream",
          "text": "[CV 5/5; 8/9] END dropout_rate=0.2, learning_rate=0.01;, score=0.000 total time=  14.2s\n[CV 1/5; 9/9] START dropout_rate=0.2, learning_rate=0.1.........................\n"
        },
        {
          "name": "stderr",
          "output_type": "stream",
          "text": "/usr/local/lib/python3.7/dist-packages/keras/optimizer_v2/adam.py:105: UserWarning: The `lr` argument is deprecated, use `learning_rate` instead.\n  super(Adam, self).__init__(name, **kwargs)\n"
        },
        {
          "name": "stdout",
          "output_type": "stream",
          "text": "[CV 1/5; 9/9] END dropout_rate=0.2, learning_rate=0.1;, score=0.000 total time=  21.5s\n[CV 2/5; 9/9] START dropout_rate=0.2, learning_rate=0.1.........................\n"
        },
        {
          "name": "stderr",
          "output_type": "stream",
          "text": "/usr/local/lib/python3.7/dist-packages/keras/optimizer_v2/adam.py:105: UserWarning: The `lr` argument is deprecated, use `learning_rate` instead.\n  super(Adam, self).__init__(name, **kwargs)\n"
        },
        {
          "name": "stdout",
          "output_type": "stream",
          "text": "[CV 2/5; 9/9] END dropout_rate=0.2, learning_rate=0.1;, score=0.000 total time=  14.0s\n[CV 3/5; 9/9] START dropout_rate=0.2, learning_rate=0.1.........................\n"
        },
        {
          "name": "stderr",
          "output_type": "stream",
          "text": "/usr/local/lib/python3.7/dist-packages/keras/optimizer_v2/adam.py:105: UserWarning: The `lr` argument is deprecated, use `learning_rate` instead.\n  super(Adam, self).__init__(name, **kwargs)\n"
        },
        {
          "name": "stdout",
          "output_type": "stream",
          "text": "[CV 3/5; 9/9] END dropout_rate=0.2, learning_rate=0.1;, score=0.000 total time=  21.5s\n[CV 4/5; 9/9] START dropout_rate=0.2, learning_rate=0.1.........................\n"
        },
        {
          "name": "stderr",
          "output_type": "stream",
          "text": "/usr/local/lib/python3.7/dist-packages/keras/optimizer_v2/adam.py:105: UserWarning: The `lr` argument is deprecated, use `learning_rate` instead.\n  super(Adam, self).__init__(name, **kwargs)\n"
        },
        {
          "name": "stdout",
          "output_type": "stream",
          "text": "[CV 4/5; 9/9] END dropout_rate=0.2, learning_rate=0.1;, score=0.000 total time=  21.5s\n[CV 5/5; 9/9] START dropout_rate=0.2, learning_rate=0.1.........................\n"
        },
        {
          "name": "stderr",
          "output_type": "stream",
          "text": "/usr/local/lib/python3.7/dist-packages/keras/optimizer_v2/adam.py:105: UserWarning: The `lr` argument is deprecated, use `learning_rate` instead.\n  super(Adam, self).__init__(name, **kwargs)\n"
        },
        {
          "name": "stdout",
          "output_type": "stream",
          "text": "[CV 5/5; 9/9] END dropout_rate=0.2, learning_rate=0.1;, score=0.000 total time=  14.1s\n"
        },
        {
          "name": "stderr",
          "output_type": "stream",
          "text": "/usr/local/lib/python3.7/dist-packages/keras/optimizer_v2/adam.py:105: UserWarning: The `lr` argument is deprecated, use `learning_rate` instead.\n  super(Adam, self).__init__(name, **kwargs)\n"
        }
      ]
    },
    {
      "metadata": {
        "colab": {
          "base_uri": "https://localhost:8080/"
        },
        "id": "j1CLwekRWLcz",
        "outputId": "21b29c00-65c5-4eef-f618-5c93c2a595d7",
        "trusted": false
      },
      "cell_type": "code",
      "source": "print('Best : {}, using {}'.format(grid_result.best_score_,grid_result.best_params_))\nmeans = grid_result.cv_results_['mean_test_score']\nstds = grid_result.cv_results_['std_test_score']\nparams = grid_result.cv_results_['params']\nfor mean, stdev, param in zip(means, stds, params):\n  print('{},{} with: {}'.format(mean, stdev, param))",
      "execution_count": 23,
      "outputs": [
        {
          "name": "stdout",
          "output_type": "stream",
          "text": "Best : 0.0, using {'dropout_rate': 0.0, 'learning_rate': 0.001}\n0.0,0.0 with: {'dropout_rate': 0.0, 'learning_rate': 0.001}\n0.0,0.0 with: {'dropout_rate': 0.0, 'learning_rate': 0.01}\n0.0,0.0 with: {'dropout_rate': 0.0, 'learning_rate': 0.1}\n0.0,0.0 with: {'dropout_rate': 0.1, 'learning_rate': 0.001}\n0.0,0.0 with: {'dropout_rate': 0.1, 'learning_rate': 0.01}\n0.0,0.0 with: {'dropout_rate': 0.1, 'learning_rate': 0.1}\n0.0,0.0 with: {'dropout_rate': 0.2, 'learning_rate': 0.001}\n0.0,0.0 with: {'dropout_rate': 0.2, 'learning_rate': 0.01}\n0.0,0.0 with: {'dropout_rate': 0.2, 'learning_rate': 0.1}\n"
        }
      ]
    },
    {
      "metadata": {
        "id": "huMd0MFqWQck",
        "trusted": false
      },
      "cell_type": "code",
      "source": "def create_model(neuron1,neuron2):\n  model = Sequential()\n  model.add(Dense(neuron1,input_dim = n_features,kernel_initializer = 'uniform',activation = 'tanh'))\n  model.add(Dense(neuron2,input_dim = neuron1,kernel_initializer = 'uniform',activation = 'tanh'))\n  model.add(Dense(1,activation = 'sigmoid'))\n  optmizer =RMSprop(0.001)#here,Learning_rate is 0.03\n  model.compile(loss='binary_crossentropy', optimizer=optmizer, metrics=['accuracy'])\n  return model",
      "execution_count": 24,
      "outputs": []
    },
    {
      "metadata": {
        "colab": {
          "base_uri": "https://localhost:8080/"
        },
        "id": "Ex_QMU0ZWW_T",
        "outputId": "cbffbb72-275b-404f-c976-d32388d8bae6",
        "trusted": false
      },
      "cell_type": "code",
      "source": "model = KerasClassifier(build_fn = create_model,verbose = 0,batch_size = 10,epochs = 10)\nneuron1 = [4,8,16,20,30,40,50]\nneuron2 = [2,4,8,20,30,40,50,60]\nparam_grids = dict(neuron1 = neuron1,neuron2 = neuron2)\ngrid = GridSearchCV(estimator = model,param_grid = param_grids,cv = KFold(),verbose = 10)\ngrid_result = grid.fit(X,y)",
      "execution_count": 25,
      "outputs": [
        {
          "name": "stdout",
          "output_type": "stream",
          "text": "Fitting 5 folds for each of 56 candidates, totalling 280 fits\n[CV 1/5; 1/56] START neuron1=4, neuron2=2.......................................\n"
        },
        {
          "name": "stderr",
          "output_type": "stream",
          "text": "/usr/local/lib/python3.7/dist-packages/ipykernel_launcher.py:1: DeprecationWarning: KerasClassifier is deprecated, use Sci-Keras (https://github.com/adriangb/scikeras) instead. See https://www.adriangb.com/scikeras/stable/migration.html for help migrating.\n  \"\"\"Entry point for launching an IPython kernel.\n"
        },
        {
          "name": "stdout",
          "output_type": "stream",
          "text": "[CV 1/5; 1/56] END ........neuron1=4, neuron2=2;, score=0.000 total time=  21.6s\n[CV 2/5; 1/56] START neuron1=4, neuron2=2.......................................\n[CV 2/5; 1/56] END ........neuron1=4, neuron2=2;, score=0.000 total time=  21.6s\n[CV 3/5; 1/56] START neuron1=4, neuron2=2.......................................\n[CV 3/5; 1/56] END ........neuron1=4, neuron2=2;, score=0.000 total time=  15.3s\n[CV 4/5; 1/56] START neuron1=4, neuron2=2.......................................\n[CV 4/5; 1/56] END ........neuron1=4, neuron2=2;, score=0.000 total time=  21.6s\n[CV 5/5; 1/56] START neuron1=4, neuron2=2.......................................\n[CV 5/5; 1/56] END ........neuron1=4, neuron2=2;, score=0.000 total time=  21.6s\n[CV 1/5; 2/56] START neuron1=4, neuron2=4.......................................\n[CV 1/5; 2/56] END ........neuron1=4, neuron2=4;, score=0.000 total time=  21.6s\n[CV 2/5; 2/56] START neuron1=4, neuron2=4.......................................\n[CV 2/5; 2/56] END ........neuron1=4, neuron2=4;, score=0.000 total time=  21.6s\n[CV 3/5; 2/56] START neuron1=4, neuron2=4.......................................\n[CV 3/5; 2/56] END ........neuron1=4, neuron2=4;, score=0.000 total time=  14.8s\n[CV 4/5; 2/56] START neuron1=4, neuron2=4.......................................\n[CV 4/5; 2/56] END ........neuron1=4, neuron2=4;, score=0.000 total time=  21.6s\n[CV 5/5; 2/56] START neuron1=4, neuron2=4.......................................\n[CV 5/5; 2/56] END ........neuron1=4, neuron2=4;, score=0.000 total time=  21.6s\n[CV 1/5; 3/56] START neuron1=4, neuron2=8.......................................\n[CV 1/5; 3/56] END ........neuron1=4, neuron2=8;, score=0.000 total time=  21.6s\n[CV 2/5; 3/56] START neuron1=4, neuron2=8.......................................\n[CV 2/5; 3/56] END ........neuron1=4, neuron2=8;, score=0.000 total time=  22.0s\n[CV 3/5; 3/56] START neuron1=4, neuron2=8.......................................\n[CV 3/5; 3/56] END ........neuron1=4, neuron2=8;, score=0.000 total time=  15.4s\n[CV 4/5; 3/56] START neuron1=4, neuron2=8.......................................\n[CV 4/5; 3/56] END ........neuron1=4, neuron2=8;, score=0.000 total time=  14.8s\n[CV 5/5; 3/56] START neuron1=4, neuron2=8.......................................\n[CV 5/5; 3/56] END ........neuron1=4, neuron2=8;, score=0.000 total time=  22.0s\n[CV 1/5; 4/56] START neuron1=4, neuron2=20......................................\n[CV 1/5; 4/56] END .......neuron1=4, neuron2=20;, score=0.000 total time=  21.6s\n[CV 2/5; 4/56] START neuron1=4, neuron2=20......................................\n[CV 2/5; 4/56] END .......neuron1=4, neuron2=20;, score=0.000 total time=  21.6s\n[CV 3/5; 4/56] START neuron1=4, neuron2=20......................................\n[CV 3/5; 4/56] END .......neuron1=4, neuron2=20;, score=0.000 total time=  21.6s\n[CV 4/5; 4/56] START neuron1=4, neuron2=20......................................\n[CV 4/5; 4/56] END .......neuron1=4, neuron2=20;, score=0.000 total time=  21.6s\n[CV 5/5; 4/56] START neuron1=4, neuron2=20......................................\n[CV 5/5; 4/56] END .......neuron1=4, neuron2=20;, score=0.000 total time=  21.6s\n[CV 1/5; 5/56] START neuron1=4, neuron2=30......................................\n[CV 1/5; 5/56] END .......neuron1=4, neuron2=30;, score=0.000 total time=  21.6s\n[CV 2/5; 5/56] START neuron1=4, neuron2=30......................................\n[CV 2/5; 5/56] END .......neuron1=4, neuron2=30;, score=0.000 total time=  21.9s\n[CV 3/5; 5/56] START neuron1=4, neuron2=30......................................\n[CV 3/5; 5/56] END .......neuron1=4, neuron2=30;, score=0.000 total time=  22.3s\n[CV 4/5; 5/56] START neuron1=4, neuron2=30......................................\n[CV 4/5; 5/56] END .......neuron1=4, neuron2=30;, score=0.000 total time=  21.6s\n[CV 5/5; 5/56] START neuron1=4, neuron2=30......................................\n[CV 5/5; 5/56] END .......neuron1=4, neuron2=30;, score=0.000 total time=  21.6s\n[CV 1/5; 6/56] START neuron1=4, neuron2=40......................................\n[CV 1/5; 6/56] END .......neuron1=4, neuron2=40;, score=0.000 total time=  21.6s\n[CV 2/5; 6/56] START neuron1=4, neuron2=40......................................\n[CV 2/5; 6/56] END .......neuron1=4, neuron2=40;, score=0.000 total time=  22.0s\n[CV 3/5; 6/56] START neuron1=4, neuron2=40......................................\n[CV 3/5; 6/56] END .......neuron1=4, neuron2=40;, score=0.000 total time=  14.8s\n[CV 4/5; 6/56] START neuron1=4, neuron2=40......................................\n[CV 4/5; 6/56] END .......neuron1=4, neuron2=40;, score=0.000 total time=  21.6s\n[CV 5/5; 6/56] START neuron1=4, neuron2=40......................................\n[CV 5/5; 6/56] END .......neuron1=4, neuron2=40;, score=0.000 total time=  21.7s\n[CV 1/5; 7/56] START neuron1=4, neuron2=50......................................\n[CV 1/5; 7/56] END .......neuron1=4, neuron2=50;, score=0.000 total time=  21.9s\n[CV 2/5; 7/56] START neuron1=4, neuron2=50......................................\n[CV 2/5; 7/56] END .......neuron1=4, neuron2=50;, score=0.000 total time=  14.7s\n[CV 3/5; 7/56] START neuron1=4, neuron2=50......................................\n[CV 3/5; 7/56] END .......neuron1=4, neuron2=50;, score=0.000 total time=  15.5s\n[CV 4/5; 7/56] START neuron1=4, neuron2=50......................................\n[CV 4/5; 7/56] END .......neuron1=4, neuron2=50;, score=0.000 total time=  14.9s\n[CV 5/5; 7/56] START neuron1=4, neuron2=50......................................\n[CV 5/5; 7/56] END .......neuron1=4, neuron2=50;, score=0.000 total time=  15.1s\n[CV 1/5; 8/56] START neuron1=4, neuron2=60......................................\n[CV 1/5; 8/56] END .......neuron1=4, neuron2=60;, score=0.000 total time=  15.1s\n[CV 2/5; 8/56] START neuron1=4, neuron2=60......................................\n[CV 2/5; 8/56] END .......neuron1=4, neuron2=60;, score=0.000 total time=  21.6s\n[CV 3/5; 8/56] START neuron1=4, neuron2=60......................................\n[CV 3/5; 8/56] END .......neuron1=4, neuron2=60;, score=0.000 total time=  15.0s\n[CV 4/5; 8/56] START neuron1=4, neuron2=60......................................\n[CV 4/5; 8/56] END .......neuron1=4, neuron2=60;, score=0.000 total time=  21.6s\n[CV 5/5; 8/56] START neuron1=4, neuron2=60......................................\n[CV 5/5; 8/56] END .......neuron1=4, neuron2=60;, score=0.000 total time=  14.9s\n[CV 1/5; 9/56] START neuron1=8, neuron2=2.......................................\n[CV 1/5; 9/56] END ........neuron1=8, neuron2=2;, score=0.000 total time=  14.7s\n[CV 2/5; 9/56] START neuron1=8, neuron2=2.......................................\n[CV 2/5; 9/56] END ........neuron1=8, neuron2=2;, score=0.000 total time=  14.8s\n[CV 3/5; 9/56] START neuron1=8, neuron2=2.......................................\n[CV 3/5; 9/56] END ........neuron1=8, neuron2=2;, score=0.000 total time=  15.1s\n[CV 4/5; 9/56] START neuron1=8, neuron2=2.......................................\n[CV 4/5; 9/56] END ........neuron1=8, neuron2=2;, score=0.000 total time=  21.6s\n[CV 5/5; 9/56] START neuron1=8, neuron2=2.......................................\n[CV 5/5; 9/56] END ........neuron1=8, neuron2=2;, score=0.000 total time=  15.2s\n[CV 1/5; 10/56] START neuron1=8, neuron2=4......................................\n[CV 1/5; 10/56] END .......neuron1=8, neuron2=4;, score=0.000 total time=  15.2s\n[CV 2/5; 10/56] START neuron1=8, neuron2=4......................................\n[CV 2/5; 10/56] END .......neuron1=8, neuron2=4;, score=0.000 total time=  14.6s\n[CV 3/5; 10/56] START neuron1=8, neuron2=4......................................\n[CV 3/5; 10/56] END .......neuron1=8, neuron2=4;, score=0.000 total time=  21.6s\n[CV 4/5; 10/56] START neuron1=8, neuron2=4......................................\n[CV 4/5; 10/56] END .......neuron1=8, neuron2=4;, score=0.000 total time=  14.9s\n[CV 5/5; 10/56] START neuron1=8, neuron2=4......................................\n[CV 5/5; 10/56] END .......neuron1=8, neuron2=4;, score=0.000 total time=  21.6s\n[CV 1/5; 11/56] START neuron1=8, neuron2=8......................................\n[CV 1/5; 11/56] END .......neuron1=8, neuron2=8;, score=0.000 total time=  14.9s\n[CV 2/5; 11/56] START neuron1=8, neuron2=8......................................\n[CV 2/5; 11/56] END .......neuron1=8, neuron2=8;, score=0.000 total time=  21.6s\n[CV 3/5; 11/56] START neuron1=8, neuron2=8......................................\n[CV 3/5; 11/56] END .......neuron1=8, neuron2=8;, score=0.000 total time=  15.2s\n[CV 4/5; 11/56] START neuron1=8, neuron2=8......................................\n[CV 4/5; 11/56] END .......neuron1=8, neuron2=8;, score=0.000 total time=  21.6s\n[CV 5/5; 11/56] START neuron1=8, neuron2=8......................................\n[CV 5/5; 11/56] END .......neuron1=8, neuron2=8;, score=0.000 total time=  21.6s\n[CV 1/5; 12/56] START neuron1=8, neuron2=20.....................................\n[CV 1/5; 12/56] END ......neuron1=8, neuron2=20;, score=0.000 total time=  15.7s\n[CV 2/5; 12/56] START neuron1=8, neuron2=20.....................................\n[CV 2/5; 12/56] END ......neuron1=8, neuron2=20;, score=0.000 total time=  21.6s\n[CV 3/5; 12/56] START neuron1=8, neuron2=20.....................................\n[CV 3/5; 12/56] END ......neuron1=8, neuron2=20;, score=0.000 total time=  14.9s\n[CV 4/5; 12/56] START neuron1=8, neuron2=20.....................................\n[CV 4/5; 12/56] END ......neuron1=8, neuron2=20;, score=0.000 total time=  14.8s\n[CV 5/5; 12/56] START neuron1=8, neuron2=20.....................................\n[CV 5/5; 12/56] END ......neuron1=8, neuron2=20;, score=0.000 total time=  14.8s\n[CV 1/5; 13/56] START neuron1=8, neuron2=30.....................................\n[CV 1/5; 13/56] END ......neuron1=8, neuron2=30;, score=0.000 total time=  14.8s\n[CV 2/5; 13/56] START neuron1=8, neuron2=30.....................................\n[CV 2/5; 13/56] END ......neuron1=8, neuron2=30;, score=0.000 total time=  21.6s\n[CV 3/5; 13/56] START neuron1=8, neuron2=30.....................................\n[CV 3/5; 13/56] END ......neuron1=8, neuron2=30;, score=0.000 total time=  15.3s\n[CV 4/5; 13/56] START neuron1=8, neuron2=30.....................................\n[CV 4/5; 13/56] END ......neuron1=8, neuron2=30;, score=0.000 total time=  15.1s\n[CV 5/5; 13/56] START neuron1=8, neuron2=30.....................................\n[CV 5/5; 13/56] END ......neuron1=8, neuron2=30;, score=0.000 total time=  15.0s\n[CV 1/5; 14/56] START neuron1=8, neuron2=40.....................................\n[CV 1/5; 14/56] END ......neuron1=8, neuron2=40;, score=0.000 total time=  14.8s\n[CV 2/5; 14/56] START neuron1=8, neuron2=40.....................................\n[CV 2/5; 14/56] END ......neuron1=8, neuron2=40;, score=0.000 total time=  14.9s\n[CV 3/5; 14/56] START neuron1=8, neuron2=40.....................................\n[CV 3/5; 14/56] END ......neuron1=8, neuron2=40;, score=0.000 total time=  21.6s\n[CV 4/5; 14/56] START neuron1=8, neuron2=40.....................................\n[CV 4/5; 14/56] END ......neuron1=8, neuron2=40;, score=0.000 total time=  15.0s\n[CV 5/5; 14/56] START neuron1=8, neuron2=40.....................................\n[CV 5/5; 14/56] END ......neuron1=8, neuron2=40;, score=0.000 total time=  15.0s\n[CV 1/5; 15/56] START neuron1=8, neuron2=50.....................................\n[CV 1/5; 15/56] END ......neuron1=8, neuron2=50;, score=0.000 total time=  14.9s\n[CV 2/5; 15/56] START neuron1=8, neuron2=50.....................................\n[CV 2/5; 15/56] END ......neuron1=8, neuron2=50;, score=0.000 total time=  22.0s\n[CV 3/5; 15/56] START neuron1=8, neuron2=50.....................................\n[CV 3/5; 15/56] END ......neuron1=8, neuron2=50;, score=0.000 total time=  15.0s\n[CV 4/5; 15/56] START neuron1=8, neuron2=50.....................................\n[CV 4/5; 15/56] END ......neuron1=8, neuron2=50;, score=0.000 total time=  21.6s\n[CV 5/5; 15/56] START neuron1=8, neuron2=50.....................................\n[CV 5/5; 15/56] END ......neuron1=8, neuron2=50;, score=0.000 total time=  15.7s\n[CV 1/5; 16/56] START neuron1=8, neuron2=60.....................................\n[CV 1/5; 16/56] END ......neuron1=8, neuron2=60;, score=0.000 total time=  18.5s\n[CV 2/5; 16/56] START neuron1=8, neuron2=60.....................................\n[CV 2/5; 16/56] END ......neuron1=8, neuron2=60;, score=0.000 total time=  43.0s\n[CV 3/5; 16/56] START neuron1=8, neuron2=60.....................................\n[CV 3/5; 16/56] END ......neuron1=8, neuron2=60;, score=0.000 total time=  21.6s\n[CV 4/5; 16/56] START neuron1=8, neuron2=60.....................................\n[CV 4/5; 16/56] END ......neuron1=8, neuron2=60;, score=0.000 total time=  15.0s\n[CV 5/5; 16/56] START neuron1=8, neuron2=60.....................................\n[CV 5/5; 16/56] END ......neuron1=8, neuron2=60;, score=0.000 total time=  15.1s\n[CV 1/5; 17/56] START neuron1=16, neuron2=2.....................................\n[CV 1/5; 17/56] END ......neuron1=16, neuron2=2;, score=0.000 total time=  16.4s\n[CV 2/5; 17/56] START neuron1=16, neuron2=2.....................................\n[CV 2/5; 17/56] END ......neuron1=16, neuron2=2;, score=0.000 total time=  22.0s\n[CV 3/5; 17/56] START neuron1=16, neuron2=2.....................................\n[CV 3/5; 17/56] END ......neuron1=16, neuron2=2;, score=0.000 total time=  15.2s\n[CV 4/5; 17/56] START neuron1=16, neuron2=2.....................................\n[CV 4/5; 17/56] END ......neuron1=16, neuron2=2;, score=0.000 total time=  21.6s\n[CV 5/5; 17/56] START neuron1=16, neuron2=2.....................................\n[CV 5/5; 17/56] END ......neuron1=16, neuron2=2;, score=0.000 total time=  14.7s\n[CV 1/5; 18/56] START neuron1=16, neuron2=4.....................................\n[CV 1/5; 18/56] END ......neuron1=16, neuron2=4;, score=0.000 total time=  14.8s\n[CV 2/5; 18/56] START neuron1=16, neuron2=4.....................................\n[CV 2/5; 18/56] END ......neuron1=16, neuron2=4;, score=0.000 total time=  21.6s\n[CV 3/5; 18/56] START neuron1=16, neuron2=4.....................................\n[CV 3/5; 18/56] END ......neuron1=16, neuron2=4;, score=0.000 total time=  21.6s\n[CV 4/5; 18/56] START neuron1=16, neuron2=4.....................................\n[CV 4/5; 18/56] END ......neuron1=16, neuron2=4;, score=0.000 total time=  21.6s\n[CV 5/5; 18/56] START neuron1=16, neuron2=4.....................................\n[CV 5/5; 18/56] END ......neuron1=16, neuron2=4;, score=0.000 total time=  21.6s\n[CV 1/5; 19/56] START neuron1=16, neuron2=8.....................................\n[CV 1/5; 19/56] END ......neuron1=16, neuron2=8;, score=0.000 total time=  21.6s\n[CV 2/5; 19/56] START neuron1=16, neuron2=8.....................................\n[CV 2/5; 19/56] END ......neuron1=16, neuron2=8;, score=0.000 total time=  22.0s\n[CV 3/5; 19/56] START neuron1=16, neuron2=8.....................................\n[CV 3/5; 19/56] END ......neuron1=16, neuron2=8;, score=0.000 total time=  14.8s\n[CV 4/5; 19/56] START neuron1=16, neuron2=8.....................................\n[CV 4/5; 19/56] END ......neuron1=16, neuron2=8;, score=0.000 total time=  15.1s\n[CV 5/5; 19/56] START neuron1=16, neuron2=8.....................................\n[CV 5/5; 19/56] END ......neuron1=16, neuron2=8;, score=0.000 total time=  21.6s\n[CV 1/5; 20/56] START neuron1=16, neuron2=20....................................\n[CV 1/5; 20/56] END .....neuron1=16, neuron2=20;, score=0.000 total time=  14.9s\n[CV 2/5; 20/56] START neuron1=16, neuron2=20....................................\n[CV 2/5; 20/56] END .....neuron1=16, neuron2=20;, score=0.000 total time=  21.9s\n[CV 3/5; 20/56] START neuron1=16, neuron2=20....................................\n[CV 3/5; 20/56] END .....neuron1=16, neuron2=20;, score=0.000 total time=  15.2s\n[CV 4/5; 20/56] START neuron1=16, neuron2=20....................................\n[CV 4/5; 20/56] END .....neuron1=16, neuron2=20;, score=0.000 total time=  21.6s\n[CV 5/5; 20/56] START neuron1=16, neuron2=20....................................\n[CV 5/5; 20/56] END .....neuron1=16, neuron2=20;, score=0.000 total time=  15.1s\n[CV 1/5; 21/56] START neuron1=16, neuron2=30....................................\n[CV 1/5; 21/56] END .....neuron1=16, neuron2=30;, score=0.000 total time=  21.6s\n[CV 2/5; 21/56] START neuron1=16, neuron2=30....................................\n[CV 2/5; 21/56] END .....neuron1=16, neuron2=30;, score=0.000 total time=  21.9s\n[CV 3/5; 21/56] START neuron1=16, neuron2=30....................................\n[CV 3/5; 21/56] END .....neuron1=16, neuron2=30;, score=0.000 total time=  15.2s\n[CV 4/5; 21/56] START neuron1=16, neuron2=30....................................\n[CV 4/5; 21/56] END .....neuron1=16, neuron2=30;, score=0.000 total time=  21.6s\n[CV 5/5; 21/56] START neuron1=16, neuron2=30....................................\n[CV 5/5; 21/56] END .....neuron1=16, neuron2=30;, score=0.000 total time=  21.6s\n[CV 1/5; 22/56] START neuron1=16, neuron2=40....................................\n[CV 1/5; 22/56] END .....neuron1=16, neuron2=40;, score=0.000 total time=  21.6s\n[CV 2/5; 22/56] START neuron1=16, neuron2=40....................................\n[CV 2/5; 22/56] END .....neuron1=16, neuron2=40;, score=0.000 total time=  15.1s\n[CV 3/5; 22/56] START neuron1=16, neuron2=40....................................\n[CV 3/5; 22/56] END .....neuron1=16, neuron2=40;, score=0.000 total time=  21.6s\n[CV 4/5; 22/56] START neuron1=16, neuron2=40....................................\n[CV 4/5; 22/56] END .....neuron1=16, neuron2=40;, score=0.000 total time=  21.6s\n[CV 5/5; 22/56] START neuron1=16, neuron2=40....................................\n[CV 5/5; 22/56] END .....neuron1=16, neuron2=40;, score=0.000 total time=  14.7s\n[CV 1/5; 23/56] START neuron1=16, neuron2=50....................................\n[CV 1/5; 23/56] END .....neuron1=16, neuron2=50;, score=0.000 total time=  14.9s\n[CV 2/5; 23/56] START neuron1=16, neuron2=50....................................\n[CV 2/5; 23/56] END .....neuron1=16, neuron2=50;, score=0.000 total time=  21.6s\n[CV 3/5; 23/56] START neuron1=16, neuron2=50....................................\n[CV 3/5; 23/56] END .....neuron1=16, neuron2=50;, score=0.000 total time=  15.7s\n[CV 4/5; 23/56] START neuron1=16, neuron2=50....................................\n[CV 4/5; 23/56] END .....neuron1=16, neuron2=50;, score=0.000 total time=  15.1s\n[CV 5/5; 23/56] START neuron1=16, neuron2=50....................................\n[CV 5/5; 23/56] END .....neuron1=16, neuron2=50;, score=0.000 total time=  15.2s\n[CV 1/5; 24/56] START neuron1=16, neuron2=60....................................\n[CV 1/5; 24/56] END .....neuron1=16, neuron2=60;, score=0.000 total time=  21.6s\n[CV 2/5; 24/56] START neuron1=16, neuron2=60....................................\n[CV 2/5; 24/56] END .....neuron1=16, neuron2=60;, score=0.000 total time=  15.2s\n[CV 3/5; 24/56] START neuron1=16, neuron2=60....................................\n[CV 3/5; 24/56] END .....neuron1=16, neuron2=60;, score=0.000 total time=  21.6s\n[CV 4/5; 24/56] START neuron1=16, neuron2=60....................................\n[CV 4/5; 24/56] END .....neuron1=16, neuron2=60;, score=0.000 total time=  21.6s\n[CV 5/5; 24/56] START neuron1=16, neuron2=60....................................\n[CV 5/5; 24/56] END .....neuron1=16, neuron2=60;, score=0.000 total time=  15.1s\n[CV 1/5; 25/56] START neuron1=20, neuron2=2.....................................\n[CV 1/5; 25/56] END ......neuron1=20, neuron2=2;, score=0.000 total time=  14.8s\n[CV 2/5; 25/56] START neuron1=20, neuron2=2.....................................\n[CV 2/5; 25/56] END ......neuron1=20, neuron2=2;, score=0.000 total time=  21.6s\n[CV 3/5; 25/56] START neuron1=20, neuron2=2.....................................\n[CV 3/5; 25/56] END ......neuron1=20, neuron2=2;, score=0.000 total time=  15.9s\n[CV 4/5; 25/56] START neuron1=20, neuron2=2.....................................\n[CV 4/5; 25/56] END ......neuron1=20, neuron2=2;, score=0.000 total time=  21.6s\n[CV 5/5; 25/56] START neuron1=20, neuron2=2.....................................\n[CV 5/5; 25/56] END ......neuron1=20, neuron2=2;, score=0.000 total time=  14.9s\n[CV 1/5; 26/56] START neuron1=20, neuron2=4.....................................\n[CV 1/5; 26/56] END ......neuron1=20, neuron2=4;, score=0.000 total time=  14.9s\n[CV 2/5; 26/56] START neuron1=20, neuron2=4.....................................\n[CV 2/5; 26/56] END ......neuron1=20, neuron2=4;, score=0.000 total time=  21.9s\n[CV 3/5; 26/56] START neuron1=20, neuron2=4.....................................\n[CV 3/5; 26/56] END ......neuron1=20, neuron2=4;, score=0.000 total time=  21.6s\n[CV 4/5; 26/56] START neuron1=20, neuron2=4.....................................\n[CV 4/5; 26/56] END ......neuron1=20, neuron2=4;, score=0.000 total time=  21.7s\n[CV 5/5; 26/56] START neuron1=20, neuron2=4.....................................\n[CV 5/5; 26/56] END ......neuron1=20, neuron2=4;, score=0.000 total time=  14.9s\n[CV 1/5; 27/56] START neuron1=20, neuron2=8.....................................\n[CV 1/5; 27/56] END ......neuron1=20, neuron2=8;, score=0.000 total time=  21.6s\n[CV 2/5; 27/56] START neuron1=20, neuron2=8.....................................\n[CV 2/5; 27/56] END ......neuron1=20, neuron2=8;, score=0.000 total time=  15.2s\n[CV 3/5; 27/56] START neuron1=20, neuron2=8.....................................\n[CV 3/5; 27/56] END ......neuron1=20, neuron2=8;, score=0.000 total time=  14.9s\n[CV 4/5; 27/56] START neuron1=20, neuron2=8.....................................\n[CV 4/5; 27/56] END ......neuron1=20, neuron2=8;, score=0.000 total time=  14.8s\n[CV 5/5; 27/56] START neuron1=20, neuron2=8.....................................\n[CV 5/5; 27/56] END ......neuron1=20, neuron2=8;, score=0.000 total time=  21.6s\n[CV 1/5; 28/56] START neuron1=20, neuron2=20....................................\n[CV 1/5; 28/56] END .....neuron1=20, neuron2=20;, score=0.000 total time=  21.6s\n[CV 2/5; 28/56] START neuron1=20, neuron2=20....................................\n[CV 2/5; 28/56] END .....neuron1=20, neuron2=20;, score=0.000 total time=  21.6s\n[CV 3/5; 28/56] START neuron1=20, neuron2=20....................................\n[CV 3/5; 28/56] END .....neuron1=20, neuron2=20;, score=0.000 total time=  15.0s\n[CV 4/5; 28/56] START neuron1=20, neuron2=20....................................\n[CV 4/5; 28/56] END .....neuron1=20, neuron2=20;, score=0.000 total time=  15.0s\n[CV 5/5; 28/56] START neuron1=20, neuron2=20....................................\n[CV 5/5; 28/56] END .....neuron1=20, neuron2=20;, score=0.000 total time=  15.9s\n[CV 1/5; 29/56] START neuron1=20, neuron2=30....................................\n[CV 1/5; 29/56] END .....neuron1=20, neuron2=30;, score=0.000 total time=  21.6s\n[CV 2/5; 29/56] START neuron1=20, neuron2=30....................................\n[CV 2/5; 29/56] END .....neuron1=20, neuron2=30;, score=0.000 total time=  15.5s\n[CV 3/5; 29/56] START neuron1=20, neuron2=30....................................\n[CV 3/5; 29/56] END .....neuron1=20, neuron2=30;, score=0.000 total time=  21.6s\n[CV 4/5; 29/56] START neuron1=20, neuron2=30....................................\n[CV 4/5; 29/56] END .....neuron1=20, neuron2=30;, score=0.000 total time=  21.6s\n[CV 5/5; 29/56] START neuron1=20, neuron2=30....................................\n[CV 5/5; 29/56] END .....neuron1=20, neuron2=30;, score=0.000 total time=  21.6s\n[CV 1/5; 30/56] START neuron1=20, neuron2=40....................................\n[CV 1/5; 30/56] END .....neuron1=20, neuron2=40;, score=0.000 total time=  21.6s\n[CV 2/5; 30/56] START neuron1=20, neuron2=40....................................\n[CV 2/5; 30/56] END .....neuron1=20, neuron2=40;, score=0.000 total time=  21.9s\n[CV 3/5; 30/56] START neuron1=20, neuron2=40....................................\n[CV 3/5; 30/56] END .....neuron1=20, neuron2=40;, score=0.000 total time=  21.6s\n[CV 4/5; 30/56] START neuron1=20, neuron2=40....................................\n[CV 4/5; 30/56] END .....neuron1=20, neuron2=40;, score=0.000 total time=  14.8s\n[CV 5/5; 30/56] START neuron1=20, neuron2=40....................................\n[CV 5/5; 30/56] END .....neuron1=20, neuron2=40;, score=0.000 total time=  21.6s\n[CV 1/5; 31/56] START neuron1=20, neuron2=50....................................\n[CV 1/5; 31/56] END .....neuron1=20, neuron2=50;, score=0.000 total time=  15.0s\n[CV 2/5; 31/56] START neuron1=20, neuron2=50....................................\n[CV 2/5; 31/56] END .....neuron1=20, neuron2=50;, score=0.000 total time=  15.4s\n[CV 3/5; 31/56] START neuron1=20, neuron2=50....................................\n[CV 3/5; 31/56] END .....neuron1=20, neuron2=50;, score=0.000 total time=  21.7s\n[CV 4/5; 31/56] START neuron1=20, neuron2=50....................................\n[CV 4/5; 31/56] END .....neuron1=20, neuron2=50;, score=0.000 total time=  14.9s\n[CV 5/5; 31/56] START neuron1=20, neuron2=50....................................\n[CV 5/5; 31/56] END .....neuron1=20, neuron2=50;, score=0.000 total time=  14.9s\n[CV 1/5; 32/56] START neuron1=20, neuron2=60....................................\n[CV 1/5; 32/56] END .....neuron1=20, neuron2=60;, score=0.000 total time=  21.6s\n[CV 2/5; 32/56] START neuron1=20, neuron2=60....................................\n[CV 2/5; 32/56] END .....neuron1=20, neuron2=60;, score=0.000 total time=  21.7s\n[CV 3/5; 32/56] START neuron1=20, neuron2=60....................................\n[CV 3/5; 32/56] END .....neuron1=20, neuron2=60;, score=0.000 total time=  21.6s\n[CV 4/5; 32/56] START neuron1=20, neuron2=60....................................\n[CV 4/5; 32/56] END .....neuron1=20, neuron2=60;, score=0.000 total time=  15.1s\n[CV 5/5; 32/56] START neuron1=20, neuron2=60....................................\n[CV 5/5; 32/56] END .....neuron1=20, neuron2=60;, score=0.000 total time=  15.1s\n[CV 1/5; 33/56] START neuron1=30, neuron2=2.....................................\n[CV 1/5; 33/56] END ......neuron1=30, neuron2=2;, score=0.000 total time=  21.7s\n[CV 2/5; 33/56] START neuron1=30, neuron2=2.....................................\n[CV 2/5; 33/56] END ......neuron1=30, neuron2=2;, score=0.000 total time=  21.6s\n[CV 3/5; 33/56] START neuron1=30, neuron2=2.....................................\n[CV 3/5; 33/56] END ......neuron1=30, neuron2=2;, score=0.000 total time=  22.0s\n[CV 4/5; 33/56] START neuron1=30, neuron2=2.....................................\n[CV 4/5; 33/56] END ......neuron1=30, neuron2=2;, score=0.000 total time=  21.6s\n[CV 5/5; 33/56] START neuron1=30, neuron2=2.....................................\n[CV 5/5; 33/56] END ......neuron1=30, neuron2=2;, score=0.000 total time=  21.6s\n[CV 1/5; 34/56] START neuron1=30, neuron2=4.....................................\n[CV 1/5; 34/56] END ......neuron1=30, neuron2=4;, score=0.000 total time=  21.6s\n[CV 2/5; 34/56] START neuron1=30, neuron2=4.....................................\n[CV 2/5; 34/56] END ......neuron1=30, neuron2=4;, score=0.000 total time=  21.6s\n[CV 3/5; 34/56] START neuron1=30, neuron2=4.....................................\n[CV 3/5; 34/56] END ......neuron1=30, neuron2=4;, score=0.000 total time=  21.6s\n[CV 4/5; 34/56] START neuron1=30, neuron2=4.....................................\n[CV 4/5; 34/56] END ......neuron1=30, neuron2=4;, score=0.000 total time=  14.8s\n[CV 5/5; 34/56] START neuron1=30, neuron2=4.....................................\n[CV 5/5; 34/56] END ......neuron1=30, neuron2=4;, score=0.000 total time=  14.6s\n[CV 1/5; 35/56] START neuron1=30, neuron2=8.....................................\n[CV 1/5; 35/56] END ......neuron1=30, neuron2=8;, score=0.000 total time=  21.6s\n[CV 2/5; 35/56] START neuron1=30, neuron2=8.....................................\n[CV 2/5; 35/56] END ......neuron1=30, neuron2=8;, score=0.000 total time=  21.6s\n[CV 3/5; 35/56] START neuron1=30, neuron2=8.....................................\n[CV 3/5; 35/56] END ......neuron1=30, neuron2=8;, score=0.000 total time=  15.2s\n[CV 4/5; 35/56] START neuron1=30, neuron2=8.....................................\n[CV 4/5; 35/56] END ......neuron1=30, neuron2=8;, score=0.000 total time=  21.6s\n[CV 5/5; 35/56] START neuron1=30, neuron2=8.....................................\n[CV 5/5; 35/56] END ......neuron1=30, neuron2=8;, score=0.000 total time=  21.6s\n[CV 1/5; 36/56] START neuron1=30, neuron2=20....................................\n[CV 1/5; 36/56] END .....neuron1=30, neuron2=20;, score=0.000 total time=  14.9s\n[CV 2/5; 36/56] START neuron1=30, neuron2=20....................................\n[CV 2/5; 36/56] END .....neuron1=30, neuron2=20;, score=0.000 total time=  21.6s\n[CV 3/5; 36/56] START neuron1=30, neuron2=20....................................\n[CV 3/5; 36/56] END .....neuron1=30, neuron2=20;, score=0.000 total time=  21.6s\n[CV 4/5; 36/56] START neuron1=30, neuron2=20....................................\n[CV 4/5; 36/56] END .....neuron1=30, neuron2=20;, score=0.000 total time=  14.9s\n[CV 5/5; 36/56] START neuron1=30, neuron2=20....................................\n[CV 5/5; 36/56] END .....neuron1=30, neuron2=20;, score=0.000 total time=  21.6s\n[CV 1/5; 37/56] START neuron1=30, neuron2=30....................................\n[CV 1/5; 37/56] END .....neuron1=30, neuron2=30;, score=0.000 total time=  21.6s\n[CV 2/5; 37/56] START neuron1=30, neuron2=30....................................\n[CV 2/5; 37/56] END .....neuron1=30, neuron2=30;, score=0.000 total time=  21.6s\n[CV 3/5; 37/56] START neuron1=30, neuron2=30....................................\n[CV 3/5; 37/56] END .....neuron1=30, neuron2=30;, score=0.000 total time=  22.0s\n[CV 4/5; 37/56] START neuron1=30, neuron2=30....................................\n[CV 4/5; 37/56] END .....neuron1=30, neuron2=30;, score=0.000 total time=  21.6s\n[CV 5/5; 37/56] START neuron1=30, neuron2=30....................................\n[CV 5/5; 37/56] END .....neuron1=30, neuron2=30;, score=0.000 total time=  21.6s\n[CV 1/5; 38/56] START neuron1=30, neuron2=40....................................\n[CV 1/5; 38/56] END .....neuron1=30, neuron2=40;, score=0.000 total time=  21.6s\n[CV 2/5; 38/56] START neuron1=30, neuron2=40....................................\n[CV 2/5; 38/56] END .....neuron1=30, neuron2=40;, score=0.000 total time=  14.9s\n[CV 3/5; 38/56] START neuron1=30, neuron2=40....................................\n[CV 3/5; 38/56] END .....neuron1=30, neuron2=40;, score=0.000 total time=  21.9s\n[CV 4/5; 38/56] START neuron1=30, neuron2=40....................................\n[CV 4/5; 38/56] END .....neuron1=30, neuron2=40;, score=0.000 total time=  15.1s\n[CV 5/5; 38/56] START neuron1=30, neuron2=40....................................\n[CV 5/5; 38/56] END .....neuron1=30, neuron2=40;, score=0.000 total time=  14.9s\n[CV 1/5; 39/56] START neuron1=30, neuron2=50....................................\n[CV 1/5; 39/56] END .....neuron1=30, neuron2=50;, score=0.000 total time=  15.0s\n[CV 2/5; 39/56] START neuron1=30, neuron2=50....................................\n[CV 2/5; 39/56] END .....neuron1=30, neuron2=50;, score=0.000 total time=  15.4s\n[CV 3/5; 39/56] START neuron1=30, neuron2=50....................................\n[CV 3/5; 39/56] END .....neuron1=30, neuron2=50;, score=0.000 total time=  21.6s\n[CV 4/5; 39/56] START neuron1=30, neuron2=50....................................\n[CV 4/5; 39/56] END .....neuron1=30, neuron2=50;, score=0.000 total time=  21.6s\n[CV 5/5; 39/56] START neuron1=30, neuron2=50....................................\n[CV 5/5; 39/56] END .....neuron1=30, neuron2=50;, score=0.000 total time=  21.6s\n[CV 1/5; 40/56] START neuron1=30, neuron2=60....................................\n[CV 1/5; 40/56] END .....neuron1=30, neuron2=60;, score=0.000 total time=  21.6s\n[CV 2/5; 40/56] START neuron1=30, neuron2=60....................................\n[CV 2/5; 40/56] END .....neuron1=30, neuron2=60;, score=0.000 total time=  21.6s\n[CV 3/5; 40/56] START neuron1=30, neuron2=60....................................\n[CV 3/5; 40/56] END .....neuron1=30, neuron2=60;, score=0.000 total time=  21.6s\n[CV 4/5; 40/56] START neuron1=30, neuron2=60....................................\n[CV 4/5; 40/56] END .....neuron1=30, neuron2=60;, score=0.000 total time=  21.6s\n[CV 5/5; 40/56] START neuron1=30, neuron2=60....................................\n[CV 5/5; 40/56] END .....neuron1=30, neuron2=60;, score=0.000 total time=  21.6s\n[CV 1/5; 41/56] START neuron1=40, neuron2=2.....................................\n[CV 1/5; 41/56] END ......neuron1=40, neuron2=2;, score=0.000 total time=  14.9s\n[CV 2/5; 41/56] START neuron1=40, neuron2=2.....................................\n[CV 2/5; 41/56] END ......neuron1=40, neuron2=2;, score=0.000 total time=  21.6s\n[CV 3/5; 41/56] START neuron1=40, neuron2=2.....................................\n[CV 3/5; 41/56] END ......neuron1=40, neuron2=2;, score=0.000 total time=  22.0s\n[CV 4/5; 41/56] START neuron1=40, neuron2=2.....................................\n[CV 4/5; 41/56] END ......neuron1=40, neuron2=2;, score=0.000 total time=  21.6s\n[CV 5/5; 41/56] START neuron1=40, neuron2=2.....................................\n[CV 5/5; 41/56] END ......neuron1=40, neuron2=2;, score=0.000 total time=  21.6s\n[CV 1/5; 42/56] START neuron1=40, neuron2=4.....................................\n[CV 1/5; 42/56] END ......neuron1=40, neuron2=4;, score=0.000 total time=  21.6s\n[CV 2/5; 42/56] START neuron1=40, neuron2=4.....................................\n[CV 2/5; 42/56] END ......neuron1=40, neuron2=4;, score=0.000 total time=  14.7s\n[CV 3/5; 42/56] START neuron1=40, neuron2=4.....................................\n[CV 3/5; 42/56] END ......neuron1=40, neuron2=4;, score=0.000 total time=  14.8s\n[CV 4/5; 42/56] START neuron1=40, neuron2=4.....................................\n[CV 4/5; 42/56] END ......neuron1=40, neuron2=4;, score=0.000 total time=  21.6s\n[CV 5/5; 42/56] START neuron1=40, neuron2=4.....................................\n[CV 5/5; 42/56] END ......neuron1=40, neuron2=4;, score=0.000 total time=  15.0s\n[CV 1/5; 43/56] START neuron1=40, neuron2=8.....................................\n[CV 1/5; 43/56] END ......neuron1=40, neuron2=8;, score=0.000 total time=  15.0s\n[CV 2/5; 43/56] START neuron1=40, neuron2=8.....................................\n[CV 2/5; 43/56] END ......neuron1=40, neuron2=8;, score=0.000 total time=  21.6s\n[CV 3/5; 43/56] START neuron1=40, neuron2=8.....................................\n[CV 3/5; 43/56] END ......neuron1=40, neuron2=8;, score=0.000 total time=  15.2s\n[CV 4/5; 43/56] START neuron1=40, neuron2=8.....................................\n[CV 4/5; 43/56] END ......neuron1=40, neuron2=8;, score=0.000 total time=  21.6s\n[CV 5/5; 43/56] START neuron1=40, neuron2=8.....................................\n[CV 5/5; 43/56] END ......neuron1=40, neuron2=8;, score=0.000 total time=  15.0s\n[CV 1/5; 44/56] START neuron1=40, neuron2=20....................................\n[CV 1/5; 44/56] END .....neuron1=40, neuron2=20;, score=0.000 total time=  15.3s\n[CV 2/5; 44/56] START neuron1=40, neuron2=20....................................\n[CV 2/5; 44/56] END .....neuron1=40, neuron2=20;, score=0.000 total time=  15.1s\n[CV 3/5; 44/56] START neuron1=40, neuron2=20....................................\n[CV 3/5; 44/56] END .....neuron1=40, neuron2=20;, score=0.000 total time=  21.6s\n[CV 4/5; 44/56] START neuron1=40, neuron2=20....................................\n[CV 4/5; 44/56] END .....neuron1=40, neuron2=20;, score=0.000 total time=  21.9s\n[CV 5/5; 44/56] START neuron1=40, neuron2=20....................................\n[CV 5/5; 44/56] END .....neuron1=40, neuron2=20;, score=0.000 total time=  21.6s\n[CV 1/5; 45/56] START neuron1=40, neuron2=30....................................\n[CV 1/5; 45/56] END .....neuron1=40, neuron2=30;, score=0.000 total time=  17.4s\n[CV 2/5; 45/56] START neuron1=40, neuron2=30....................................\n[CV 2/5; 45/56] END .....neuron1=40, neuron2=30;, score=0.000 total time=  15.6s\n[CV 3/5; 45/56] START neuron1=40, neuron2=30....................................\n[CV 3/5; 45/56] END .....neuron1=40, neuron2=30;, score=0.000 total time=  22.0s\n[CV 4/5; 45/56] START neuron1=40, neuron2=30....................................\n[CV 4/5; 45/56] END .....neuron1=40, neuron2=30;, score=0.000 total time=  21.6s\n[CV 5/5; 45/56] START neuron1=40, neuron2=30....................................\n[CV 5/5; 45/56] END .....neuron1=40, neuron2=30;, score=0.000 total time=  21.6s\n[CV 1/5; 46/56] START neuron1=40, neuron2=40....................................\n[CV 1/5; 46/56] END .....neuron1=40, neuron2=40;, score=0.000 total time=  21.6s\n[CV 2/5; 46/56] START neuron1=40, neuron2=40....................................\n[CV 2/5; 46/56] END .....neuron1=40, neuron2=40;, score=0.000 total time=  21.9s\n[CV 3/5; 46/56] START neuron1=40, neuron2=40....................................\n[CV 3/5; 46/56] END .....neuron1=40, neuron2=40;, score=0.000 total time=  21.6s\n[CV 4/5; 46/56] START neuron1=40, neuron2=40....................................\n[CV 4/5; 46/56] END .....neuron1=40, neuron2=40;, score=0.000 total time=  21.6s\n[CV 5/5; 46/56] START neuron1=40, neuron2=40....................................\n[CV 5/5; 46/56] END .....neuron1=40, neuron2=40;, score=0.000 total time=  15.1s\n[CV 1/5; 47/56] START neuron1=40, neuron2=50....................................\n[CV 1/5; 47/56] END .....neuron1=40, neuron2=50;, score=0.000 total time=  21.6s\n[CV 2/5; 47/56] START neuron1=40, neuron2=50....................................\n[CV 2/5; 47/56] END .....neuron1=40, neuron2=50;, score=0.000 total time=  15.1s\n[CV 3/5; 47/56] START neuron1=40, neuron2=50....................................\n[CV 3/5; 47/56] END .....neuron1=40, neuron2=50;, score=0.000 total time=  22.0s\n[CV 4/5; 47/56] START neuron1=40, neuron2=50....................................\n[CV 4/5; 47/56] END .....neuron1=40, neuron2=50;, score=0.000 total time=  15.2s\n[CV 5/5; 47/56] START neuron1=40, neuron2=50....................................\n[CV 5/5; 47/56] END .....neuron1=40, neuron2=50;, score=0.000 total time=  15.0s\n[CV 1/5; 48/56] START neuron1=40, neuron2=60....................................\n[CV 1/5; 48/56] END .....neuron1=40, neuron2=60;, score=0.000 total time=  21.6s\n[CV 2/5; 48/56] START neuron1=40, neuron2=60....................................\n[CV 2/5; 48/56] END .....neuron1=40, neuron2=60;, score=0.000 total time=  21.7s\n[CV 3/5; 48/56] START neuron1=40, neuron2=60....................................\n[CV 3/5; 48/56] END .....neuron1=40, neuron2=60;, score=0.000 total time=  15.3s\n[CV 4/5; 48/56] START neuron1=40, neuron2=60....................................\n[CV 4/5; 48/56] END .....neuron1=40, neuron2=60;, score=0.000 total time=  21.6s\n[CV 5/5; 48/56] START neuron1=40, neuron2=60....................................\n[CV 5/5; 48/56] END .....neuron1=40, neuron2=60;, score=0.000 total time=  15.2s\n[CV 1/5; 49/56] START neuron1=50, neuron2=2.....................................\n[CV 1/5; 49/56] END ......neuron1=50, neuron2=2;, score=0.000 total time=  14.8s\n[CV 2/5; 49/56] START neuron1=50, neuron2=2.....................................\n[CV 2/5; 49/56] END ......neuron1=50, neuron2=2;, score=0.000 total time=  21.6s\n[CV 3/5; 49/56] START neuron1=50, neuron2=2.....................................\n[CV 3/5; 49/56] END ......neuron1=50, neuron2=2;, score=0.000 total time=  15.4s\n[CV 4/5; 49/56] START neuron1=50, neuron2=2.....................................\n[CV 4/5; 49/56] END ......neuron1=50, neuron2=2;, score=0.000 total time=  15.6s\n[CV 5/5; 49/56] START neuron1=50, neuron2=2.....................................\n[CV 5/5; 49/56] END ......neuron1=50, neuron2=2;, score=0.000 total time=  15.1s\n[CV 1/5; 50/56] START neuron1=50, neuron2=4.....................................\n[CV 1/5; 50/56] END ......neuron1=50, neuron2=4;, score=0.000 total time=  21.6s\n[CV 2/5; 50/56] START neuron1=50, neuron2=4.....................................\n[CV 2/5; 50/56] END ......neuron1=50, neuron2=4;, score=0.000 total time=  21.6s\n[CV 3/5; 50/56] START neuron1=50, neuron2=4.....................................\n[CV 3/5; 50/56] END ......neuron1=50, neuron2=4;, score=0.000 total time=  21.6s\n[CV 4/5; 50/56] START neuron1=50, neuron2=4.....................................\n[CV 4/5; 50/56] END ......neuron1=50, neuron2=4;, score=0.000 total time=  14.9s\n[CV 5/5; 50/56] START neuron1=50, neuron2=4.....................................\n[CV 5/5; 50/56] END ......neuron1=50, neuron2=4;, score=0.000 total time=  21.6s\n[CV 1/5; 51/56] START neuron1=50, neuron2=8.....................................\n[CV 1/5; 51/56] END ......neuron1=50, neuron2=8;, score=0.000 total time=  21.6s\n[CV 2/5; 51/56] START neuron1=50, neuron2=8.....................................\n[CV 2/5; 51/56] END ......neuron1=50, neuron2=8;, score=0.000 total time=  15.0s\n[CV 3/5; 51/56] START neuron1=50, neuron2=8.....................................\n[CV 3/5; 51/56] END ......neuron1=50, neuron2=8;, score=0.000 total time=  22.0s\n[CV 4/5; 51/56] START neuron1=50, neuron2=8.....................................\n[CV 4/5; 51/56] END ......neuron1=50, neuron2=8;, score=0.000 total time=  14.9s\n[CV 5/5; 51/56] START neuron1=50, neuron2=8.....................................\n[CV 5/5; 51/56] END ......neuron1=50, neuron2=8;, score=0.000 total time=  21.8s\n[CV 1/5; 52/56] START neuron1=50, neuron2=20....................................\n[CV 1/5; 52/56] END .....neuron1=50, neuron2=20;, score=0.000 total time=  21.6s\n[CV 2/5; 52/56] START neuron1=50, neuron2=20....................................\n[CV 2/5; 52/56] END .....neuron1=50, neuron2=20;, score=0.000 total time=  15.1s\n[CV 3/5; 52/56] START neuron1=50, neuron2=20....................................\n[CV 3/5; 52/56] END .....neuron1=50, neuron2=20;, score=0.000 total time=  15.1s\n[CV 4/5; 52/56] START neuron1=50, neuron2=20....................................\n[CV 4/5; 52/56] END .....neuron1=50, neuron2=20;, score=0.000 total time=  15.1s\n[CV 5/5; 52/56] START neuron1=50, neuron2=20....................................\n[CV 5/5; 52/56] END .....neuron1=50, neuron2=20;, score=0.000 total time=  21.6s\n[CV 1/5; 53/56] START neuron1=50, neuron2=30....................................\n[CV 1/5; 53/56] END .....neuron1=50, neuron2=30;, score=0.000 total time=  15.2s\n[CV 2/5; 53/56] START neuron1=50, neuron2=30....................................\n[CV 2/5; 53/56] END .....neuron1=50, neuron2=30;, score=0.000 total time=  15.2s\n[CV 3/5; 53/56] START neuron1=50, neuron2=30....................................\n[CV 3/5; 53/56] END .....neuron1=50, neuron2=30;, score=0.000 total time=  21.6s\n[CV 4/5; 53/56] START neuron1=50, neuron2=30....................................\n[CV 4/5; 53/56] END .....neuron1=50, neuron2=30;, score=0.000 total time=  21.6s\n[CV 5/5; 53/56] START neuron1=50, neuron2=30....................................\n[CV 5/5; 53/56] END .....neuron1=50, neuron2=30;, score=0.000 total time=  21.6s\n[CV 1/5; 54/56] START neuron1=50, neuron2=40....................................\n[CV 1/5; 54/56] END .....neuron1=50, neuron2=40;, score=0.000 total time=  21.6s\n[CV 2/5; 54/56] START neuron1=50, neuron2=40....................................\n[CV 2/5; 54/56] END .....neuron1=50, neuron2=40;, score=0.000 total time=  15.1s\n[CV 3/5; 54/56] START neuron1=50, neuron2=40....................................\n[CV 3/5; 54/56] END .....neuron1=50, neuron2=40;, score=0.000 total time=  15.4s\n[CV 4/5; 54/56] START neuron1=50, neuron2=40....................................\n[CV 4/5; 54/56] END .....neuron1=50, neuron2=40;, score=0.000 total time=  21.6s\n[CV 5/5; 54/56] START neuron1=50, neuron2=40....................................\n[CV 5/5; 54/56] END .....neuron1=50, neuron2=40;, score=0.000 total time=  15.2s\n[CV 1/5; 55/56] START neuron1=50, neuron2=50....................................\n[CV 1/5; 55/56] END .....neuron1=50, neuron2=50;, score=0.000 total time=  21.7s\n[CV 2/5; 55/56] START neuron1=50, neuron2=50....................................\n[CV 2/5; 55/56] END .....neuron1=50, neuron2=50;, score=0.000 total time=  15.1s\n[CV 3/5; 55/56] START neuron1=50, neuron2=50....................................\n[CV 3/5; 55/56] END .....neuron1=50, neuron2=50;, score=0.000 total time=  15.6s\n[CV 4/5; 55/56] START neuron1=50, neuron2=50....................................\n[CV 4/5; 55/56] END .....neuron1=50, neuron2=50;, score=0.000 total time=  21.6s\n[CV 5/5; 55/56] START neuron1=50, neuron2=50....................................\n[CV 5/5; 55/56] END .....neuron1=50, neuron2=50;, score=0.000 total time=  15.3s\n[CV 1/5; 56/56] START neuron1=50, neuron2=60....................................\n[CV 1/5; 56/56] END .....neuron1=50, neuron2=60;, score=0.000 total time=  15.3s\n[CV 2/5; 56/56] START neuron1=50, neuron2=60....................................\n[CV 2/5; 56/56] END .....neuron1=50, neuron2=60;, score=0.000 total time=  15.3s\n[CV 3/5; 56/56] START neuron1=50, neuron2=60....................................\n[CV 3/5; 56/56] END .....neuron1=50, neuron2=60;, score=0.000 total time=  14.9s\n[CV 4/5; 56/56] START neuron1=50, neuron2=60....................................\n[CV 4/5; 56/56] END .....neuron1=50, neuron2=60;, score=0.000 total time=  21.6s\n[CV 5/5; 56/56] START neuron1=50, neuron2=60....................................\n[CV 5/5; 56/56] END .....neuron1=50, neuron2=60;, score=0.000 total time=  21.6s\n"
        }
      ]
    },
    {
      "metadata": {
        "id": "_hwIRVgSWaPE",
        "trusted": false
      },
      "cell_type": "code",
      "source": "from sklearn.model_selection import train_test_split",
      "execution_count": 26,
      "outputs": []
    },
    {
      "metadata": {
        "id": "pwW1jUekWeiZ",
        "trusted": false
      },
      "cell_type": "code",
      "source": "X_train,X_test,y_train,y_test =train_test_split(X,y,test_size =0.3,random_state =42)",
      "execution_count": 27,
      "outputs": []
    },
    {
      "metadata": {
        "colab": {
          "base_uri": "https://localhost:8080/"
        },
        "id": "MDRp8bsHWhXG",
        "outputId": "df2faeea-420b-4587-f6ff-7b211b31d91c",
        "trusted": false
      },
      "cell_type": "code",
      "source": "X_train.shape,X_test.shape,y_train.shape,y_test.shape",
      "execution_count": 28,
      "outputs": [
        {
          "data": {
            "text/plain": "((10527, 10), (4512, 10), (10527,), (4512,))"
          },
          "execution_count": 28,
          "metadata": {},
          "output_type": "execute_result"
        }
      ]
    },
    {
      "metadata": {
        "id": "P6vYJPasWkDY",
        "trusted": false
      },
      "cell_type": "code",
      "source": "optmizer =RMSprop(0.001)\nmodel_new=keras.Sequential([\nkeras.layers.Dense(4,input_dim =(n_features),activation='relu'),\nkeras.layers.Dense(2,activation ='relu')\n])\nmodel_new.compile(optimizer =optmizer,loss= 'mean_squared_error',metrics=['accuracy'])\n",
      "execution_count": 29,
      "outputs": []
    },
    {
      "metadata": {
        "colab": {
          "base_uri": "https://localhost:8080/"
        },
        "id": "kfFOJi4cWnCg",
        "outputId": "f9085c66-245e-4ae9-a80c-5a225622ecff",
        "trusted": false
      },
      "cell_type": "code",
      "source": "seed_value =42;\nimport random\ntensorflow.random.set_seed(seed_value)\nmodel_new.fit(X_train, y_train, epochs=10, batch_size=10, verbose = 1)",
      "execution_count": 30,
      "outputs": [
        {
          "name": "stdout",
          "output_type": "stream",
          "text": "Epoch 1/10\n1053/1053 [==============================] - 2s 1ms/step - loss: 9285.7158 - accuracy: 0.0000e+00\nEpoch 2/10\n1053/1053 [==============================] - 2s 1ms/step - loss: 9247.5068 - accuracy: 0.0000e+00\nEpoch 3/10\n1053/1053 [==============================] - 1s 1ms/step - loss: 9231.9766 - accuracy: 0.0000e+00\nEpoch 4/10\n1053/1053 [==============================] - 1s 1ms/step - loss: 9215.0967 - accuracy: 0.0000e+00\nEpoch 5/10\n1053/1053 [==============================] - 1s 1ms/step - loss: 9196.2637 - accuracy: 0.0000e+00\nEpoch 6/10\n1053/1053 [==============================] - 1s 1ms/step - loss: 9178.0635 - accuracy: 0.0000e+00\nEpoch 7/10\n1053/1053 [==============================] - 1s 1ms/step - loss: 9165.5977 - accuracy: 0.0000e+00\nEpoch 8/10\n1053/1053 [==============================] - 1s 1ms/step - loss: 9159.6582 - accuracy: 0.0000e+00\nEpoch 9/10\n1053/1053 [==============================] - 1s 1ms/step - loss: 9156.5410 - accuracy: 0.0000e+00\nEpoch 10/10\n1053/1053 [==============================] - 1s 1ms/step - loss: 9154.5264 - accuracy: 0.0000e+00\n"
        },
        {
          "data": {
            "text/plain": "<keras.callbacks.History at 0x7fa79ea60fd0>"
          },
          "execution_count": 30,
          "metadata": {},
          "output_type": "execute_result"
        }
      ]
    },
    {
      "metadata": {
        "colab": {
          "base_uri": "https://localhost:8080/"
        },
        "id": "C7DmfrdRWrhh",
        "outputId": "57f4b5af-d1c5-4d7f-e664-e4f1366df41d",
        "trusted": false
      },
      "cell_type": "code",
      "source": "model_new.evaluate(X_test,y_test)",
      "execution_count": 31,
      "outputs": [
        {
          "name": "stdout",
          "output_type": "stream",
          "text": "141/141 [==============================] - 0s 1ms/step - loss: 9111.9727 - accuracy: 0.0000e+00\n"
        },
        {
          "data": {
            "text/plain": "[9111.97265625, 0.0]"
          },
          "execution_count": 31,
          "metadata": {},
          "output_type": "execute_result"
        }
      ]
    }
  ],
  "metadata": {
    "colab": {
      "name": "Gasturbines(NeuralNetworks).ipynb",
      "provenance": []
    },
    "kernelspec": {
      "name": "python3",
      "display_name": "Python 3 (ipykernel)",
      "language": "python"
    },
    "language_info": {
      "name": "python",
      "version": "3.9.7",
      "mimetype": "text/x-python",
      "codemirror_mode": {
        "name": "ipython",
        "version": 3
      },
      "pygments_lexer": "ipython3",
      "nbconvert_exporter": "python",
      "file_extension": ".py"
    },
    "gist": {
      "id": "",
      "data": {
        "description": "Assignment_16_GasTurbines.ipynb",
        "public": true
      }
    }
  },
  "nbformat": 4,
  "nbformat_minor": 1
}